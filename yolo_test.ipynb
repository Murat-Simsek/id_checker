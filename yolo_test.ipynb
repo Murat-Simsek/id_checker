{
 "cells": [
  {
   "cell_type": "code",
   "execution_count": 22,
   "metadata": {},
   "outputs": [],
   "source": [
    "import cv2\n",
    "import os\n",
    "\n",
    "def resize_image(image_path):\n",
    "    \"\"\"Resizes an image to 512x512.\n",
    "\n",
    "    Args:\n",
    "        image_path (str): Path to the image file.\n",
    "        method (str): Resizing image in path.\n",
    "\n",
    "    Returns:\n",
    "        numpy.ndarray: The resized image.\n",
    "    \"\"\"\n",
    "    if not os.path.isfile(image_path):\n",
    "        raise ValueError(\"Image not found at the specified path.\")\n",
    "    \n",
    "    image = cv2.imread(image_path)\n",
    "    \n",
    "    resized_image = cv2.resize(image, (640, 480), interpolation=cv2.INTER_AREA)  # Use INTER_AREA for better downsampling\n",
    "    return resized_image\n"
   ]
  },
  {
   "cell_type": "code",
   "execution_count": 25,
   "metadata": {},
   "outputs": [
    {
     "name": "stdout",
     "output_type": "stream",
     "text": [
      "(480, 640, 3)\n"
     ]
    }
   ],
   "source": [
    "# Example usage\n",
    "try:\n",
    "    path_image = \"\"\"E:/Data science/Data_sc/tc_id_checker/tc_images/person2/tc_ornek_2_front.png\"\"\"\n",
    "    resized_image = resize_image(path_image)\n",
    "    print(resized_image.shape)\n",
    "    # save resized_image    \n",
    "    cv2.imwrite(\"tc_images/person2/image_resized.png\", resized_image)\n",
    "except ValueError as e:\n",
    "    print(str(e))"
   ]
  },
  {
   "cell_type": "code",
   "execution_count": 35,
   "metadata": {},
   "outputs": [
    {
     "name": "stdout",
     "output_type": "stream",
     "text": [
      "(480, 640, 3)\n",
      "(480, 640, 3)\n",
      "(480, 640, 3)\n"
     ]
    }
   ],
   "source": [
    "# read images in folders named person1, person2, etc.. and resize.\n",
    "base_dir = \"E:/Data science/Data_sc/tc_id_checker/tc_images/\"\n",
    "for person_folder in os.listdir(base_dir):\n",
    "    if person_folder.startswith(\"person\"):\n",
    "        person_dir = os.path.join(base_dir, person_folder)\n",
    "        if os.path.isdir(person_dir):\n",
    "            for image_file in os.listdir(person_dir):\n",
    "                # read image if image file is named \"front.png\" and \"back.png\"\n",
    "                if image_file.endswith(\"front.jpg\"):\n",
    "                    image_path = person_dir + \"/\" + image_file\n",
    "                    resized_image = resize_image(image_path)\n",
    "                    print(resized_image.shape)\n",
    "                    cv2.imwrite(os.path.join(base_dir + \"/resized_images/\", f\"{person_folder}_front.jpg\"), resized_image)\n",
    "                if image_file.endswith(\"back.jpg\"):\n",
    "                    image_path = os.path.join(person_dir, image_file)\n",
    "                    resized_image = resize_image(image_path)\n",
    "                    cv2.imwrite(os.path.join(base_dir + \"/resized_images/\", f\"{person_folder}_back.jpg\"), resized_image)\n"
   ]
  },
  {
   "cell_type": "code",
   "execution_count": null,
   "metadata": {},
   "outputs": [
    {
     "name": "stdout",
     "output_type": "stream",
     "text": [
      "(480, 640, 3)\n"
     ]
    }
   ],
   "source": [
    "# Example usage\n",
    "try:\n",
    "    path_image = \"\"\"E:/Data science/Data_sc/tc_id_checker/tc_images/person2/tc_ornek_2_front.png\"\"\"\n",
    "    resized_image = resize_image(path_image)\n",
    "    print(resized_image.shape)\n",
    "    # save resized_image    \n",
    "    cv2.imwrite(\"tc_images/person2/image_resized.png\", resized_image)\n",
    "except ValueError as e:\n",
    "    print(str(e))"
   ]
  },
  {
   "cell_type": "markdown",
   "metadata": {},
   "source": [
    "## Dataset Midv500"
   ]
  },
  {
   "cell_type": "code",
   "execution_count": 3,
   "metadata": {},
   "outputs": [],
   "source": [
    "import midv500"
   ]
  },
  {
   "cell_type": "code",
   "execution_count": null,
   "metadata": {},
   "outputs": [],
   "source": [
    "\n",
    "# set directory for dataset to be downloaded\n",
    "dataset_dir = './midv500_data/'\n",
    "\n",
    "# download and unzip the base midv500 dataset\n",
    "dataset_name = \"midv500\"\n",
    "midv500.download_dataset(dataset_dir, dataset_name)"
   ]
  },
  {
   "cell_type": "code",
   "execution_count": null,
   "metadata": {},
   "outputs": [],
   "source": [
    "import os\n",
    "\n",
    "def delete_mp4_mov_files(folder_path):\n",
    "    \"\"\"\n",
    "    Deletes all MP4 and MOV files within a specified folder and its subfolders.\n",
    "\n",
    "    Args:\n",
    "        folder_path (str): The path to the folder to be processed.\n",
    "    \"\"\"\n",
    "\n",
    "    for root, directories, files in os.walk(folder_path):\n",
    "        for filename in files:\n",
    "            if filename.endswith(\".mp4\") or filename.endswith(\".MOV\"):\n",
    "                file_path = os.path.join(root, filename)\n",
    "                os.remove(file_path)\n",
    "                print(f\"Deleted file: {file_path}\")\n",
    "\n",
    "# Example usage:\n",
    "folder_to_process = \"midv500_data/midv500/\"  # Replace with the actual folder path\n",
    "delete_mp4_mov_files(folder_to_process)\n"
   ]
  },
  {
   "cell_type": "code",
   "execution_count": 4,
   "metadata": {},
   "outputs": [
    {
     "name": "stdout",
     "output_type": "stream",
     "text": [
      "There are 14748 image files in folder ./midv500_data/.\n",
      "Converting to coco.\n"
     ]
    },
    {
     "name": "stderr",
     "output_type": "stream",
     "text": [
      "100%|██████████| 14748/14748 [07:35<00:00, 32.36it/s]\n"
     ]
    }
   ],
   "source": [
    "# set directory for coco annotations to be saved\n",
    "export_dir = 'Coco_data/'\n",
    "dataset_dir = './midv500_data/'\n",
    "# set the desired name of the coco file, coco file will be exported as \"filename + '_coco.json'\"\n",
    "filename = 'midv500'\n",
    "\n",
    "# convert midv500 annotations to coco format\n",
    "midv500.convert_to_coco(dataset_dir, export_dir, filename)"
   ]
  },
  {
   "cell_type": "code",
   "execution_count": 2,
   "metadata": {},
   "outputs": [],
   "source": [
    "import json\n",
    "f = open('Coco_data/midv500_coco.json')\n",
    "data = json.load(f)\n",
    "f.close()\n",
    "\n",
    "def get_img_ann(image_id):\n",
    "    img_ann = []\n",
    "    isFound = False\n",
    "    for ann in data['annotations']:\n",
    "        if ann['image_id'] == image_id:\n",
    "            img_ann.append(ann)\n",
    "            isFound = True\n",
    "    if isFound:\n",
    "        return img_ann\n",
    "    else:\n",
    "        return None\n",
    "\n",
    "def get_img(filename):\n",
    "  for img in data['images']:\n",
    "    if img['file_name'] == filename:\n",
    "      return img"
   ]
  },
  {
   "cell_type": "code",
   "execution_count": 2,
   "metadata": {},
   "outputs": [],
   "source": [
    "import json\n",
    "import cv2\n",
    "import os\n",
    "import matplotlib.pyplot as plt\n",
    "import shutil"
   ]
  },
  {
   "cell_type": "code",
   "execution_count": 3,
   "metadata": {},
   "outputs": [],
   "source": [
    "input_path = \"midv500_data/midv500/\"\n",
    "output_path = \"yolo_dataset/\""
   ]
  },
  {
   "cell_type": "code",
   "execution_count": null,
   "metadata": {},
   "outputs": [],
   "source": [
    "import os\n",
    "import shutil\n",
    "from PIL import Image\n",
    "file_names = []\n",
    "\n",
    "def load_images_from_folder(root_folder):\n",
    "    count = 0\n",
    "    if count < 3000:\n",
    "        for root, directories, files in os.walk(root_folder):\n",
    "            for filename in files:\n",
    "                if filename.endswith(\".tif\"):  # Only process TIFF files\n",
    "                    file_path = os.path.join(root, filename)\n",
    "\n",
    "                    try:\n",
    "                        # Check if the TIFF file is empty\n",
    "                        with Image.open(file_path) as img:\n",
    "                            \n",
    "                            width, height = img.size\n",
    "                            if width == 0 or height == 0:\n",
    "                                print(f\"Warning: Empty TIFF file found: {file_path}\")\n",
    "                            else:\n",
    "                                destination = f\"{output_path}images/img{count}.jpg\"\n",
    "                                #shutil.copy(file_path, destination)\n",
    "                                img.save(destination, format='PNG')\n",
    "                                print(\"File copied successfully.\")\n",
    "                                count += 1\n",
    "                                file_path = file_path.replace(\"\\\\\", \"/\").replace(\"midv500_data/\",\"\")\n",
    "                                print(file_path)\n",
    "                                file_names.append(file_path)\n",
    "                    except shutil.SameFileError:\n",
    "                        print(\"Source and destination represent the same file.\")\n",
    "                    except OSError as e:\n",
    "                        print(f\"Error processing file {file_path}: {e}\")\n",
    "                \n",
    "\n",
    "# Example usage:\n",
    "root_folder = \"midv500_data/midv500/\"  # Replace with the actual path\n",
    "load_images_from_folder(root_folder)\n"
   ]
  },
  {
   "cell_type": "code",
   "execution_count": 5,
   "metadata": {},
   "outputs": [
    {
     "name": "stdout",
     "output_type": "stream",
     "text": [
      "midv500/01_alb_id/images/CA/CA01_01.tif\n",
      "{'file_name': 'midv500/01_alb_id/images/CA/CA01_01.tif', 'height': 1920, 'width': 1080, 'id': 0}\n"
     ]
    }
   ],
   "source": [
    "for img in data['images']:\n",
    "    #print(img['file_name'])\n",
    "    if img['file_name'] == file_names[1]:\n",
    "        print(img['file_name'])\n",
    "        print(img)\n",
    "    # else:\n",
    "    #     print(\"failed\")"
   ]
  },
  {
   "cell_type": "code",
   "execution_count": 6,
   "metadata": {},
   "outputs": [
    {
     "data": {
      "text/plain": [
       "'midv500/01_alb_id/images/CA/CA01_02.tif'"
      ]
     },
     "execution_count": 6,
     "metadata": {},
     "output_type": "execute_result"
    }
   ],
   "source": [
    "data['images'][1][\"file_name\"]"
   ]
  },
  {
   "cell_type": "code",
   "execution_count": 7,
   "metadata": {},
   "outputs": [
    {
     "data": {
      "text/plain": [
       "'midv500/01_alb_id/images/CA/CA01_01.tif'"
      ]
     },
     "execution_count": 7,
     "metadata": {},
     "output_type": "execute_result"
    }
   ],
   "source": [
    "file_names[1]"
   ]
  },
  {
   "cell_type": "code",
   "execution_count": 11,
   "metadata": {},
   "outputs": [
    {
     "name": "stdout",
     "output_type": "stream",
     "text": [
      "None\n"
     ]
    }
   ],
   "source": [
    "print(get_img('midv500/01_alb_id/images/01_alb_id.tif'))"
   ]
  },
  {
   "cell_type": "code",
   "execution_count": null,
   "metadata": {},
   "outputs": [],
   "source": [
    "count = 0\n",
    "\n",
    "for filename in file_names:\n",
    "  print(filename)\n",
    "  # Extracting image \n",
    "  img = get_img(filename)\n",
    "  if img is None:\n",
    "    continue\n",
    "  img_id = img['id']\n",
    "  img_w = img['width']\n",
    "  img_h = img['height']\n",
    "\n",
    "  # Get Annotations for this image\n",
    "  img_ann = get_img_ann(img_id)\n",
    "\n",
    "  if img_ann:\n",
    "    # Opening file for current image\n",
    "    file_object = open(f\"{output_path}labels/img{count}.txt\", \"a\")\n",
    "\n",
    "    for ann in img_ann:\n",
    "      current_category = ann['category_id'] - 1 # As yolo format labels start from 0 \n",
    "      current_bbox = ann['bbox']\n",
    "      x = current_bbox[0]\n",
    "      y = current_bbox[1]\n",
    "      w = current_bbox[2]\n",
    "      h = current_bbox[3]\n",
    "      \n",
    "      # Finding midpoints\n",
    "      x_centre = (x + (x+w))/2\n",
    "      y_centre = (y + (y+h))/2\n",
    "      \n",
    "      # Normalization\n",
    "      x_centre = x_centre / img_w\n",
    "      y_centre = y_centre / img_h\n",
    "      w = w / img_w\n",
    "      h = h / img_h\n",
    "      \n",
    "      # Limiting upto fix number of decimal places\n",
    "      x_centre = format(x_centre, '.6f')\n",
    "      y_centre = format(y_centre, '.6f')\n",
    "      w = format(w, '.6f')\n",
    "      h = format(h, '.6f')\n",
    "          \n",
    "      # Writing current object \n",
    "      file_object.write(f\"{current_category} {x_centre} {y_centre} {w} {h}\\n\")\n",
    "\n",
    "    file_object.close()\n",
    "    count += 1  # This should be outside the if img_ann block."
   ]
  },
  {
   "cell_type": "markdown",
   "metadata": {},
   "source": [
    "# Yolo Test"
   ]
  },
  {
   "cell_type": "code",
   "execution_count": null,
   "metadata": {},
   "outputs": [],
   "source": [
    "from ultralytics import YOLO\n",
    "import torch\n",
    "\n",
    "torch.cuda.set_device(0)\n",
    "\n",
    "# Load a pretrained YOLO model (recommended for training)\n",
    "model = YOLO('yolov8m.pt').to(0)\n",
    "\n",
    "#result = model.predict(\"test.png\")\n",
    "# # Train the model using the 'coco128.yaml' dataset for 3 epochs\n",
    "results = model.train(data='test_cam.jpg',batch=12, epochs=100, imgsz=640, device=\"cuda\")\n",
    "\n",
    "# # Evaluate the model's performance on the validation set\n",
    "# results = model.val()\n",
    "\n",
    "# Export the model to ONNX format\n",
    "# success = model.export(format='onnx')"
   ]
  },
  {
   "cell_type": "code",
   "execution_count": null,
   "metadata": {},
   "outputs": [],
   "source": [
    "model = YOLO('best.pt').to(0)\n",
    "\n",
    "result = model.predict(\"yolo_dataset/images/img1113.jpg\")"
   ]
  },
  {
   "cell_type": "markdown",
   "metadata": {},
   "source": [
    "### Crop from images."
   ]
  },
  {
   "cell_type": "code",
   "execution_count": 21,
   "metadata": {},
   "outputs": [],
   "source": [
    "import os\n",
    "import shutil\n",
    "\n",
    "def move_and_delete_images(source_folder, destination_folder):\n",
    "    # Create the destination folder if it doesn't exist\n",
    "    if not os.path.exists(destination_folder):\n",
    "        os.makedirs(destination_folder)\n",
    "\n",
    "    # Iterate over files in the source folder\n",
    "    for filename in os.listdir(source_folder):\n",
    "        file_path = os.path.join(source_folder, filename)\n",
    "\n",
    "        # Check if the file is an image (you may want to adjust the list of valid extensions)\n",
    "        if filename.lower().endswith(('.png', '.jpg', '.jpeg', '.gif', '.bmp')):\n",
    "            # Construct the destination path\n",
    "            destination_path = os.path.join(destination_folder, filename)\n",
    "\n",
    "            # Copy the file to the destination folder\n",
    "            shutil.copy(file_path, destination_path)\n",
    "\n",
    "            # Delete the original file\n",
    "            os.remove(file_path)\n",
    "\n",
    "            print(f\"Moved and deleted: {filename}\")\n",
    "\n",
    "# Example usage\n"
   ]
  },
  {
   "cell_type": "code",
   "execution_count": 98,
   "metadata": {},
   "outputs": [
    {
     "name": "stdout",
     "output_type": "stream",
     "text": [
      "\n",
      "image 1/1 e:\\Data science\\Data_sc\\tc_id_checker\\tc_images\\resized_images\\person3_back.jpg: 480x640 1 id, 1 front, 137.7ms\n",
      "Speed: 2.0ms preprocess, 137.7ms inference, 2.0ms postprocess per image at shape (1, 3, 480, 640)\n",
      "Moved and deleted: test.jpg\n",
      "['front', 'id']\n"
     ]
    }
   ],
   "source": [
    "from ultralytics import YOLO\n",
    "from PIL import Image\n",
    "import cv2\n",
    "\n",
    "model = YOLO('best.pt')\n",
    "results = model.predict(source=\"tc_images/resized_images/person3_back.jpg\")\n",
    "\n",
    "for r in results:\n",
    "\n",
    "    r.save_crop(save_dir=\"Saved_output/\", file_name=\"test\")\n",
    "\n",
    "    source_folder = \"Saved_output/id\"\n",
    "    destination_folder = \"Saved_output/output_image\"\n",
    "\n",
    "    move_and_delete_images(source_folder, destination_folder)\n",
    "\n",
    "    # Json of data results\n",
    "    r_json = r.tojson()\n",
    "    parsed_data = json.loads(r_json)\n",
    "    class_of_image=[]\n",
    "    # Extract and print the 'name' values\n",
    "    for item in parsed_data:\n",
    "        name_value = item.get('name')\n",
    "        if name_value is not None:\n",
    "            class_of_image.append(name_value)\n",
    "\n",
    "print(class_of_image)"
   ]
  },
  {
   "cell_type": "code",
   "execution_count": null,
   "metadata": {},
   "outputs": [],
   "source": [
    "print(results)"
   ]
  },
  {
   "cell_type": "code",
   "execution_count": 89,
   "metadata": {},
   "outputs": [
    {
     "name": "stdout",
     "output_type": "stream",
     "text": [
      "tensor([0.8594, 0.8487], device='cuda:0')\n",
      "{0: 'id', 1: 'front', 2: 'back'}\n",
      "1 id, 1 back, \n"
     ]
    }
   ],
   "source": [
    "for r in results:\n",
    "    print(r.boxes.conf)\n",
    "    print(r.names)\n",
    "    print(r.verbose())\n",
    "    r_json = r.tojson()"
   ]
  },
  {
   "cell_type": "code",
   "execution_count": 95,
   "metadata": {},
   "outputs": [
    {
     "name": "stdout",
     "output_type": "stream",
     "text": [
      "[{'name': 'back', 'class': 2, 'confidence': 0.8594096899032593, 'box': {'x1': 365.4445495605469, 'y1': 80.4691162109375, 'x2': 537.3255004882812, 'y2': 192.79937744140625}}, {'name': 'id', 'class': 0, 'confidence': 0.8486798405647278, 'box': {'x1': 4.695387363433838, 'y1': 0.0, 'x2': 576.2062377929688, 'y2': 368.3673095703125}}]\n",
      "back\n",
      "id\n",
      "['back', 'id']\n"
     ]
    }
   ],
   "source": [
    "# convert string to list\n",
    "# Convert the string to a list or dictionary\n",
    "parsed_data = json.loads(r_json)\n",
    "\n",
    "class_of_image=[]\n",
    "# Extract and print the 'name' values\n",
    "for item in parsed_data:\n",
    "    name_value = item.get('name')\n",
    "    if name_value is not None:\n",
    "        class_of_image.append(name_value)\n",
    "        print(name_value)\n",
    "\n",
    "print(class_of_image)"
   ]
  },
  {
   "cell_type": "code",
   "execution_count": null,
   "metadata": {},
   "outputs": [
    {
     "ename": "error",
     "evalue": "OpenCV(4.8.1) D:\\a\\opencv-python\\opencv-python\\opencv\\modules\\highgui\\src\\window.cpp:971: error: (-215:Assertion failed) size.width>0 && size.height>0 in function 'cv::imshow'\n",
     "output_type": "error",
     "traceback": [
      "\u001b[1;31m---------------------------------------------------------------------------\u001b[0m\n",
      "\u001b[1;31merror\u001b[0m                                     Traceback (most recent call last)\n",
      "Cell \u001b[1;32mIn[6], line 4\u001b[0m\n",
      "\u001b[0;32m      1\u001b[0m \u001b[38;5;28;01mimport\u001b[39;00m \u001b[38;5;21;01mcv2\u001b[39;00m\n",
      "\u001b[0;32m      3\u001b[0m \u001b[38;5;66;03m# Display the image\u001b[39;00m\n",
      "\u001b[1;32m----> 4\u001b[0m \u001b[43mcv2\u001b[49m\u001b[38;5;241;43m.\u001b[39;49m\u001b[43mimshow\u001b[49m\u001b[43m(\u001b[49m\u001b[38;5;124;43m\"\u001b[39;49m\u001b[38;5;124;43mCropped Image\u001b[39;49m\u001b[38;5;124;43m\"\u001b[39;49m\u001b[43m,\u001b[49m\u001b[43m \u001b[49m\u001b[43mcropped_image\u001b[49m\u001b[43m)\u001b[49m\n",
      "\u001b[0;32m      5\u001b[0m cv2\u001b[38;5;241m.\u001b[39mwaitKey(\u001b[38;5;241m0\u001b[39m)\n",
      "\u001b[0;32m      6\u001b[0m cv2\u001b[38;5;241m.\u001b[39mdestroyAllWindows()\n",
      "\n",
      "File \u001b[1;32me:\\Data science\\Repos\\envs\\Id\\lib\\site-packages\\ultralytics\\utils\\patches.py:55\u001b[0m, in \u001b[0;36mimshow\u001b[1;34m(winname, mat)\u001b[0m\n",
      "\u001b[0;32m     47\u001b[0m \u001b[38;5;28;01mdef\u001b[39;00m \u001b[38;5;21mimshow\u001b[39m(winname: \u001b[38;5;28mstr\u001b[39m, mat: np\u001b[38;5;241m.\u001b[39mndarray):\n",
      "\u001b[0;32m     48\u001b[0m \u001b[38;5;250m    \u001b[39m\u001b[38;5;124;03m\"\"\"\u001b[39;00m\n",
      "\u001b[0;32m     49\u001b[0m \u001b[38;5;124;03m    Displays an image in the specified window.\u001b[39;00m\n",
      "\u001b[0;32m     50\u001b[0m \n",
      "\u001b[1;32m   (...)\u001b[0m\n",
      "\u001b[0;32m     53\u001b[0m \u001b[38;5;124;03m        mat (np.ndarray): Image to be shown.\u001b[39;00m\n",
      "\u001b[0;32m     54\u001b[0m \u001b[38;5;124;03m    \"\"\"\u001b[39;00m\n",
      "\u001b[1;32m---> 55\u001b[0m     \u001b[43m_imshow\u001b[49m\u001b[43m(\u001b[49m\u001b[43mwinname\u001b[49m\u001b[38;5;241;43m.\u001b[39;49m\u001b[43mencode\u001b[49m\u001b[43m(\u001b[49m\u001b[38;5;124;43m'\u001b[39;49m\u001b[38;5;124;43municode_escape\u001b[39;49m\u001b[38;5;124;43m'\u001b[39;49m\u001b[43m)\u001b[49m\u001b[38;5;241;43m.\u001b[39;49m\u001b[43mdecode\u001b[49m\u001b[43m(\u001b[49m\u001b[43m)\u001b[49m\u001b[43m,\u001b[49m\u001b[43m \u001b[49m\u001b[43mmat\u001b[49m\u001b[43m)\u001b[49m\n",
      "\n",
      "\u001b[1;31merror\u001b[0m: OpenCV(4.8.1) D:\\a\\opencv-python\\opencv-python\\opencv\\modules\\highgui\\src\\window.cpp:971: error: (-215:Assertion failed) size.width>0 && size.height>0 in function 'cv::imshow'\n"
     ]
    }
   ],
   "source": [
    "import cv2\n",
    "\n",
    "# Display the image\n",
    "cv2.imshow(\"Cropped Image\", cropped_image)\n",
    "cv2.waitKey(0)\n",
    "cv2.destroyAllWindows()"
   ]
  },
  {
   "cell_type": "code",
   "execution_count": null,
   "metadata": {},
   "outputs": [],
   "source": [
    "import cv2\n",
    "\n",
    "# Display the image\n",
    "cv2.imshow(\"Cropped Image\", cropped_image)\n",
    "cv2.waitKey(0)\n",
    "cv2.destroyAllWindows()"
   ]
  },
  {
   "cell_type": "code",
   "execution_count": 7,
   "metadata": {},
   "outputs": [
    {
     "data": {
      "text/plain": [
       "NoneType"
      ]
     },
     "execution_count": 7,
     "metadata": {},
     "output_type": "execute_result"
    }
   ],
   "source": [
    "type(cropped_image)"
   ]
  },
  {
   "cell_type": "code",
   "execution_count": null,
   "metadata": {},
   "outputs": [],
   "source": []
  },
  {
   "cell_type": "markdown",
   "metadata": {},
   "source": [
    "### Feature extractor."
   ]
  },
  {
   "cell_type": "code",
   "execution_count": 78,
   "metadata": {},
   "outputs": [
    {
     "name": "stdout",
     "output_type": "stream",
     "text": [
      "Similarity: 35.47120418848168 %\n"
     ]
    }
   ],
   "source": [
    "import cv2\n",
    "\n",
    "# Load the images\n",
    "img1 = cv2.imread('Saved_output/id/test6.jpg', cv2.IMREAD_GRAYSCALE)\n",
    "img2 = cv2.imread('tc_images/resized_images/person2_front.jpg', cv2.IMREAD_GRAYSCALE)\n",
    "\n",
    "# Create a SIFT feature detector and descriptor extractor\n",
    "sift = cv2.SIFT_create()\n",
    "\n",
    "# Detect keypoints and compute descriptors for both images\n",
    "keypoints1, descriptors1 = sift.detectAndCompute(img1, None)\n",
    "keypoints2, descriptors2 = sift.detectAndCompute(img2, None)\n",
    "\n",
    "# Create a BFMatcher object for matching descriptors\n",
    "bf = cv2.BFMatcher(cv2.NORM_L2, crossCheck=True)\n",
    "\n",
    "# Match descriptors\n",
    "matches = bf.match(descriptors1, descriptors2)\n",
    "\n",
    "# Sort matches by distance\n",
    "matches = sorted(matches, key=lambda x: x.distance)\n",
    "\n",
    "# Calculate the number of matches\n",
    "num_matches = len(matches)\n",
    "\n",
    "# Calculate the percentage of similarity\n",
    "similarity = num_matches / min(len(keypoints1), len(keypoints2)) * 100\n",
    "\n",
    "# Print the percentage of similarity\n",
    "print(\"Similarity:\", similarity, \"%\")\n",
    "\n",
    "# Draw the top 20 matches\n",
    "img3 = cv2.drawMatches(img1, keypoints1, img2, keypoints2, matches[:20], None, flags=2)\n",
    "\n",
    "# Display the matched image\n",
    "cv2.imshow('Matches', img3)\n",
    "cv2.waitKey(0)\n",
    "cv2.destroyAllWindows()\n"
   ]
  },
  {
   "cell_type": "code",
   "execution_count": 79,
   "metadata": {},
   "outputs": [
    {
     "name": "stdout",
     "output_type": "stream",
     "text": [
      "0.426837682723999\n"
     ]
    },
    {
     "data": {
      "text/plain": [
       "True"
      ]
     },
     "execution_count": 79,
     "metadata": {},
     "output_type": "execute_result"
    }
   ],
   "source": [
    "import os, sys\n",
    "import numpy as np\n",
    "import cv2\n",
    "import time\n",
    "from imutils.object_detection import non_max_suppression\n",
    "\n",
    "def east_detect(image):\n",
    "    layerNames = [\n",
    "    \t\"feature_fusion/Conv_7/Sigmoid\",\n",
    "    \t\"feature_fusion/concat_3\"]\n",
    "    \n",
    "    orig = image.copy()\n",
    "    \n",
    "    if len(image.shape) == 2:\n",
    "        image = cv2.cvtColor(image, cv2.COLOR_GRAY2RGB)\n",
    "    \n",
    "    (H, W) = image.shape[:2]\n",
    "    \n",
    "    # set the new width and height and then determine the ratio in change\n",
    "    # for both the width and height: Should be multiple of 32\n",
    "    (newW, newH) = (320, 320)\n",
    "    \n",
    "    rW = W / float(newW)\n",
    "    rH = H / float(newH)\n",
    "    \n",
    "    # resize the image and grab the new image dimensions\n",
    "    image = cv2.resize(image, (newW, newH))\n",
    "    \n",
    "    (H, W) = image.shape[:2]\n",
    "    \n",
    "    net = cv2.dnn.readNet(\"frozen_east_text_detection.pb\")\n",
    "    \n",
    "    blob = cv2.dnn.blobFromImage(image, 1.0, (W, H),\n",
    "    \t(123.68, 116.78, 103.94), swapRB=True, crop=False)\n",
    "    \n",
    "    start = time.time()\n",
    "    \n",
    "    net.setInput(blob)\n",
    "    \n",
    "    (scores, geometry) = net.forward(layerNames)\n",
    "    \n",
    "    (numRows, numCols) = scores.shape[2:4]\n",
    "    rects = []\n",
    "    confidences = []\n",
    "    # loop over the number of rows\n",
    "    for y in range(0, numRows):\n",
    "        # extract the scores (probabilities), followed by the geometrical\n",
    "        # data used to derive potential bounding box coordinates that\n",
    "        # surround text\n",
    "        scoresData = scores[0, 0, y]\n",
    "        xData0 = geometry[0, 0, y]\n",
    "        xData1 = geometry[0, 1, y]\n",
    "        xData2 = geometry[0, 2, y]\n",
    "        xData3 = geometry[0, 3, y]\n",
    "        anglesData = geometry[0, 4, y]\n",
    "    \n",
    "        for x in range(0, numCols):\n",
    "    \t\t# if our score does not have sufficient probability, ignore it\n",
    "            # Set minimum confidence as required\n",
    "            if scoresData[x] < 0.5:\n",
    "                continue\n",
    "    \t\t# compute the offset factor as our resulting feature maps will\n",
    "            #  x smaller than the input image\n",
    "            (offsetX, offsetY) = (x * 4.0, y * 4.0)\n",
    "            # extract the rotation angle for the prediction and then\n",
    "            # compute the sin and cosine\n",
    "            angle = anglesData[x]\n",
    "            cos = np.cos(angle)\n",
    "            sin = np.sin(angle)\n",
    "            # use the geometry volume to derive the width and height of\n",
    "            # the bounding box\n",
    "            h = xData0[x] + xData2[x]\n",
    "            w = xData1[x] + xData3[x]\n",
    "            # compute both the starting and ending (x, y)-coordinates for\n",
    "            # the text prediction bounding box\n",
    "            endX = int(offsetX + (cos * xData1[x]) + (sin * xData2[x]))\n",
    "            endY = int(offsetY - (sin * xData1[x]) + (cos * xData2[x]))\n",
    "            startX = int(endX - w)\n",
    "            startY = int(endY - h)\n",
    "            # add the bounding box coordinates and probability score to\n",
    "            # our respective lists\n",
    "            rects.append((startX, startY, endX, endY))\n",
    "            confidences.append(scoresData[x])\n",
    "                        \n",
    "    boxes = non_max_suppression(np.array(rects), probs=confidences)\n",
    "    # loop over the bounding boxes\n",
    "    for (startX, startY, endX, endY) in boxes:\n",
    "    \t# scale the bounding box coordinates based on the respective\n",
    "    \t# ratios\n",
    "    \tstartX = int(startX * rW)\n",
    "    \tstartY = int(startY * rH)\n",
    "    \tendX = int(endX * rW)\n",
    "    \tendY = int(endY * rH)\n",
    "    \t# draw the bounding box on the image\n",
    "    \tcv2.rectangle(orig, (startX, startY), (endX, endY), (0, 255, 0), 2)\n",
    "    \n",
    "    \n",
    "    print(time.time() - start)\n",
    "    return orig\n",
    "\n",
    "image = cv2.imread(\"Saved_output/id/test6.jpg\")\n",
    "\n",
    "out_image = east_detect(image)\n",
    "\n",
    "cv2.imwrite(\"sample_output.jpg\", out_image)\n",
    "\n"
   ]
  },
  {
   "cell_type": "markdown",
   "metadata": {},
   "source": [
    "### Rotation of images"
   ]
  },
  {
   "cell_type": "code",
   "execution_count": 84,
   "metadata": {},
   "outputs": [],
   "source": [
    "import numpy as np\n",
    "import matplotlib.pyplot as plt\n",
    "from skimage.color import rgb2gray\n",
    "from skimage.transform import rotate\n",
    "from skimage.transform import (hough_line, hough_line_peaks)\n",
    "from scipy.stats import mode\n",
    "from skimage import io\n",
    "from skimage.filters import threshold_otsu, sobel\n",
    "from matplotlib import cm\n",
    "import cv2\n",
    "\n",
    "def binarizeImage(RGB_image):\n",
    "  rgb_image = cv2.imread(RGB_image)\n",
    "  image = rgb2gray(rgb_image)\n",
    "  threshold = threshold_otsu(image)\n",
    "  bina_image = image < threshold\n",
    "  \n",
    "  return bina_image\n",
    "\n",
    "def findEdges(bina_image):\n",
    "  \n",
    "  image_edges = sobel(bina_image)\n",
    "  return image_edges\n",
    "\n",
    "\n",
    "def findTiltAngle(image_edges):\n",
    "    h, theta, d = hough_line(image_edges)\n",
    "    accum, angles, dists = hough_line_peaks(h, theta, d)\n",
    "\n",
    "    if angles.size > 0:\n",
    "        angle = np.rad2deg(angles[0])  # Use the first angle\n",
    "    else:\n",
    "        angle = None  # Handle the case of no lines\n",
    "\n",
    "    # Only use mode calculation if angles has multiple values\n",
    "    if angles.size > 1 and angle is None:\n",
    "        angle = np.rad2deg(mode(angles)[0][0])\n",
    "\n",
    "    if angle is not None:\n",
    "        if angle < 0:\n",
    "            angle = angle + 90\n",
    "        else:\n",
    "            angle = angle - 90\n",
    "    return angle\n",
    "  \n",
    "def rotateImage(RGB_image, angle, rotated_image_name=\"rotated_image.jpg\"):\n",
    "    rgb_image = cv2.imread(RGB_image)\n",
    "    img_rotated = rotate(rgb_image, angle)\n",
    "    # Save the rotated image:\n",
    "    img_rotated= cv2.convertScaleAbs(img_rotated * 255)\n",
    "    cv2.imwrite(rotated_image_name, img_rotated)"
   ]
  },
  {
   "cell_type": "code",
   "execution_count": 91,
   "metadata": {},
   "outputs": [
    {
     "name": "stdout",
     "output_type": "stream",
     "text": [
      "-0.9999999999999858\n"
     ]
    }
   ],
   "source": [
    "bina= binarizeImage(\"Saved_output/id/test6.jpg\")\n",
    "edges = findEdges(bina)\n",
    "angle = findTiltAngle(edges)\n",
    "rotateImage(\"Saved_output/id/test6.jpg\", angle, \"rotat_image.jpg\")\n",
    "\n",
    "print(angle)"
   ]
  },
  {
   "cell_type": "code",
   "execution_count": 88,
   "metadata": {},
   "outputs": [
    {
     "name": "stdout",
     "output_type": "stream",
     "text": [
      "--------------\n",
      "uint8\n",
      "(370, 584, 3)\n",
      "--------------\n",
      "uint8\n",
      "(370, 584, 3)\n"
     ]
    },
    {
     "data": {
      "text/plain": [
       "-1"
      ]
     },
     "execution_count": 88,
     "metadata": {},
     "output_type": "execute_result"
    }
   ],
   "source": [
    "rgb_image = cv2.imread(\"Saved_output/id/test6.jpg\")\n",
    "img_rotated = rotate(rgb_image, angle)  # Assuming you have a 'rotate' function defined\n",
    "\n",
    "img_rotated = cv2.convertScaleAbs(img_rotated * 255)\n",
    "print(\"--------------\")\n",
    "print(rgb_image.dtype)\n",
    "print(rgb_image.shape)\n",
    "print(\"--------------\")\n",
    "print(img_rotated.dtype)\n",
    "print(img_rotated.shape)\n",
    "# Display the original image:\n",
    "cv2.imshow(\"Original Image\", rgb_image)\n",
    "cv2.waitKey(0)  # Wait for a key press\n",
    "\n",
    "# Display the rotated image:\n",
    "cv2.imshow(\"Rotated Image\", img_rotated)\n",
    "cv2.waitKey(0)  # Wait for a key press"
   ]
  },
  {
   "cell_type": "markdown",
   "metadata": {},
   "source": [
    "### Find Rectangle in image"
   ]
  },
  {
   "cell_type": "code",
   "execution_count": 69,
   "metadata": {},
   "outputs": [
    {
     "name": "stdout",
     "output_type": "stream",
     "text": [
      "Number of contours detected: 154\n"
     ]
    }
   ],
   "source": [
    "import cv2\n",
    "import numpy as np\n",
    "\n",
    "img = cv2.imread('rotated_image.jpg')\n",
    "gray = cv2.cvtColor(img, cv2.COLOR_BGR2GRAY)\n",
    "\n",
    "ret,thresh = cv2.threshold(gray,100,255,1)\n",
    "contours,hierarchy = cv2.findContours(thresh, 1, 2)\n",
    "print(\"Number of contours detected:\", len(contours))\n",
    "\n",
    "for cnt in contours:\n",
    "   x1,y1 = cnt[0][0]\n",
    "   approx = cv2.approxPolyDP(cnt, 0.01*cv2.arcLength(cnt, True), True)\n",
    "   if len(approx) == 4:\n",
    "      x, y, w, h = cv2.boundingRect(cnt)\n",
    "      ratio = float(w)/h\n",
    "      if ratio >= 0.9 and ratio <= 1.1:\n",
    "         img = cv2.drawContours(img, [cnt], -1, (0,255,255), 3)\n",
    "         cv2.putText(img, 'Square', (x1, y1), cv2.FONT_HERSHEY_SIMPLEX, 0.6, (255, 255, 0), 2)\n",
    "      else:\n",
    "         cv2.putText(img, 'Rectangle', (x1, y1), cv2.FONT_HERSHEY_SIMPLEX, 0.6, (0, 255, 0), 2)\n",
    "         img = cv2.drawContours(img, [cnt], -1, (0,255,0), 3)\n",
    "\n",
    "cv2.imshow(\"Shapes\", img)\n",
    "cv2.waitKey(0)\n",
    "cv2.destroyAllWindows()"
   ]
  },
  {
   "cell_type": "code",
   "execution_count": 1,
   "metadata": {},
   "outputs": [
    {
     "ename": "error",
     "evalue": "OpenCV(4.8.1) D:\\a\\opencv-python\\opencv-python\\opencv\\modules\\imgproc\\src\\color.cpp:182: error: (-215:Assertion failed) !_src.empty() in function 'cv::cvtColor'\n",
     "output_type": "error",
     "traceback": [
      "\u001b[1;31m---------------------------------------------------------------------------\u001b[0m",
      "\u001b[1;31merror\u001b[0m                                     Traceback (most recent call last)",
      "Cell \u001b[1;32mIn[1], line 8\u001b[0m\n\u001b[0;32m      5\u001b[0m img \u001b[38;5;241m=\u001b[39m cv2\u001b[38;5;241m.\u001b[39mimread(\u001b[38;5;124m\"\u001b[39m\u001b[38;5;124mSaved_output/id/test5.jpg\u001b[39m\u001b[38;5;124m\"\u001b[39m)\n\u001b[0;32m      7\u001b[0m \u001b[38;5;66;03m# Convert to grayscale\u001b[39;00m\n\u001b[1;32m----> 8\u001b[0m gray \u001b[38;5;241m=\u001b[39m \u001b[43mcv2\u001b[49m\u001b[38;5;241;43m.\u001b[39;49m\u001b[43mcvtColor\u001b[49m\u001b[43m(\u001b[49m\u001b[43mimg\u001b[49m\u001b[43m,\u001b[49m\u001b[43m \u001b[49m\u001b[43mcv2\u001b[49m\u001b[38;5;241;43m.\u001b[39;49m\u001b[43mCOLOR_BGR2GRAY\u001b[49m\u001b[43m)\u001b[49m\n\u001b[0;32m     10\u001b[0m \u001b[38;5;66;03m# Apply Canny edge detection\u001b[39;00m\n\u001b[0;32m     11\u001b[0m edges \u001b[38;5;241m=\u001b[39m cv2\u001b[38;5;241m.\u001b[39mCanny(gray, \u001b[38;5;241m10\u001b[39m, \u001b[38;5;241m150\u001b[39m)  \u001b[38;5;66;03m# Adjust thresholds as needed\u001b[39;00m\n",
      "\u001b[1;31merror\u001b[0m: OpenCV(4.8.1) D:\\a\\opencv-python\\opencv-python\\opencv\\modules\\imgproc\\src\\color.cpp:182: error: (-215:Assertion failed) !_src.empty() in function 'cv::cvtColor'\n"
     ]
    }
   ],
   "source": [
    "import cv2\n",
    "import numpy as np\n",
    "\n",
    "# Load the image\n",
    "img = cv2.imread(\"Saved_output/id/test5.jpg\")\n",
    "\n",
    "# Convert to grayscale\n",
    "gray = cv2.cvtColor(img, cv2.COLOR_BGR2GRAY)\n",
    "\n",
    "# Apply Canny edge detection\n",
    "edges = cv2.Canny(gray, 10, 150)  # Adjust thresholds as needed\n",
    "\n",
    "# Find contours\n",
    "contours, _ = cv2.findContours(edges, cv2.RETR_EXTERNAL, cv2.CHAIN_APPROX_SIMPLE)\n",
    "\n",
    "# Filter for rectangular contours\n",
    "rectangles = []\n",
    "for cnt in contours:\n",
    "    approx = cv2.approxPolyDP(cnt, 0.01 * cv2.arcLength(cnt, True), True)\n",
    "    if len(approx) == 4:\n",
    "        x, y, w, h = cv2.boundingRect(approx)\n",
    "        aspect_ratio = float(w) / h\n",
    "        if 0.9 <= aspect_ratio <= 1.1:  # Adjust aspect ratio criteria as needed\n",
    "            rectangles.append(cnt)\n",
    "\n",
    "# Draw rectangles on the original image\n",
    "cv2.drawContours(img, rectangles, -1, (0, 255, 0), 2)  # Green rectangles\n",
    "\n",
    "# Display or save the result\n",
    "cv2.imshow(\"Rectangles Detected\", img)\n",
    "cv2.waitKey(0)\n",
    "cv2.destroyAllWindows()\n"
   ]
  },
  {
   "cell_type": "code",
   "execution_count": 4,
   "metadata": {},
   "outputs": [
    {
     "ename": "error",
     "evalue": "OpenCV(4.8.1) D:\\a\\opencv-python\\opencv-python\\opencv\\modules\\highgui\\src\\window.cpp:1272: error: (-2:Unspecified error) The function is not implemented. Rebuild the library with Windows, GTK+ 2.x or Cocoa support. If you are on Ubuntu or Debian, install libgtk2.0-dev and pkg-config, then re-run cmake or configure script in function 'cvShowImage'\n",
     "output_type": "error",
     "traceback": [
      "\u001b[1;31m---------------------------------------------------------------------------\u001b[0m",
      "\u001b[1;31merror\u001b[0m                                     Traceback (most recent call last)",
      "Cell \u001b[1;32mIn[4], line 8\u001b[0m\n\u001b[0;32m      6\u001b[0m gray \u001b[38;5;241m=\u001b[39m cv2\u001b[38;5;241m.\u001b[39mcvtColor(img, cv2\u001b[38;5;241m.\u001b[39mCOLOR_BGR2GRAY)\n\u001b[0;32m      7\u001b[0m cv2\u001b[38;5;241m.\u001b[39mimwrite(\u001b[38;5;124m\"\u001b[39m\u001b[38;5;124mgray.jpg\u001b[39m\u001b[38;5;124m\"\u001b[39m, gray)\n\u001b[1;32m----> 8\u001b[0m \u001b[43mcv2\u001b[49m\u001b[38;5;241;43m.\u001b[39;49m\u001b[43mimshow\u001b[49m\u001b[43m(\u001b[49m\u001b[38;5;124;43m\"\u001b[39;49m\u001b[38;5;124;43mgray\u001b[39;49m\u001b[38;5;124;43m\"\u001b[39;49m\u001b[43m,\u001b[49m\u001b[43m \u001b[49m\u001b[43mgray\u001b[49m\u001b[43m)\u001b[49m\n\u001b[0;32m      9\u001b[0m cv2\u001b[38;5;241m.\u001b[39mwaitKey(\u001b[38;5;241m0\u001b[39m)\n\u001b[0;32m     10\u001b[0m cv2\u001b[38;5;241m.\u001b[39mdestroyAllWindows()\n",
      "\u001b[1;31merror\u001b[0m: OpenCV(4.8.1) D:\\a\\opencv-python\\opencv-python\\opencv\\modules\\highgui\\src\\window.cpp:1272: error: (-2:Unspecified error) The function is not implemented. Rebuild the library with Windows, GTK+ 2.x or Cocoa support. If you are on Ubuntu or Debian, install libgtk2.0-dev and pkg-config, then re-run cmake or configure script in function 'cvShowImage'\n"
     ]
    }
   ],
   "source": [
    "# Load the image\n",
    "import cv2\n",
    "img = cv2.imread(\"tc_images/person3/front.jpg\")\n",
    "\n",
    "# Convert to grayscale\n",
    "gray = cv2.cvtColor(img, cv2.COLOR_BGR2GRAY)\n",
    "cv2.imwrite(\"gray.jpg\", gray)\n",
    "cv2.imshow(\"gray\", gray)\n",
    "cv2.waitKey(0)\n",
    "cv2.destroyAllWindows()"
   ]
  },
  {
   "cell_type": "markdown",
   "metadata": {},
   "source": [
    "### EASYOCR test"
   ]
  },
  {
   "cell_type": "code",
   "execution_count": 8,
   "metadata": {},
   "outputs": [],
   "source": [
    "import cv2\n",
    "import easyocr\n",
    "def preprocess_image( image_path):\n",
    "    # Read the image\n",
    "    original_image = cv2.imread(image_path)\n",
    "\n",
    "    # Convert the image to grayscale\n",
    "    #gray_image = cv2.cvtColor(original_image, cv2.COLOR_BGR2GRAY)\n",
    "\n",
    "    # Resize the image to 640x480\n",
    "    resized_image = cv2.resize(original_image, (640, 480))\n",
    "\n",
    "    return resized_image\n",
    "image_r = preprocess_image(image_path=\"id_checker/static/rotated91a13ba5-d4f9-41ba-9dd3-3a82ea2e3e74.jpg\")"
   ]
  },
  {
   "cell_type": "code",
   "execution_count": 23,
   "metadata": {},
   "outputs": [
    {
     "name": "stderr",
     "output_type": "stream",
     "text": [
      "Neither CUDA nor MPS are available - defaulting to CPU. Note: This module is much faster with a GPU.\n"
     ]
    },
    {
     "name": "stdout",
     "output_type": "stream",
     "text": [
      "([[146, 96], [500, 96], [500, 122], [146, 122]], 'TORKIYE CUMHURIYETI KIMLIk KARTI', 0.5249294500491704)\n",
      "([[201, 123], [371, 123], [371, 139], [201, 139]], 'Repubuc Ofturkcyide', 0.1837844997934139)\n",
      "([[407, 123], [447, 123], [447, 139], [407, 139]], 'CARD', 0.412663072347641)\n",
      "([[96, 174], [220, 174], [220, 200], [96, 200]], '12345678901', 0.7246103770631815)\n",
      "([[244, 212], [368, 212], [368, 238], [244, 238]], '[KARAÇAMOĞLU', 0.6445247911836792)\n",
      "([[244, 252], [350, 252], [350, 276], [244, 276]], 'ÖMER SELIM', 0.5175145545657983)\n",
      "([[249, 279], [273, 279], [273, 291], [249, 291]], 'Doa', 0.1522038322190677)\n",
      "([[245, 293], [337, 293], [337, 313], [245, 313]], '15.10.1956', 0.7959384472111367)\n",
      "([[385, 293], [421, 293], [421, 313], [385, 313]], 'EIM', 0.583871115599164)\n",
      "([[491, 303], [545, 303], [545, 321], [491, 321]], 'U24259', 0.5772348984727045)\n",
      "([[244, 330], [340, 330], [340, 354], [244, 354]], 'MOOA59153', 0.6426256655956711)\n",
      "([[385, 331], [457, 331], [457, 351], [385, 351]], 'ICITUR', 0.6209360393451002)\n",
      "([[244, 368], [336, 368], [336, 392], [244, 392]], '17.08.2024', 0.4049466698923437)\n",
      "([[441, 352], [543, 352], [543, 404], [441, 404]], '~lC', 0.14622931654675594)\n"
     ]
    },
    {
     "data": {
      "image/png": "[encoded data removed]",
      "text/plain": [
       "<Figure size 640x480 with 1 Axes>"
      ]
     },
     "metadata": {},
     "output_type": "display_data"
    }
   ],
   "source": [
    "import easyocr\n",
    "import matplotlib.pyplot as plt\n",
    "import cv2\n",
    "reader = easyocr.Reader(['tr','en']) # this needs to run only once to load the model into memory\n",
    "result = reader.readtext(image_r, detail=10)\n",
    "\n",
    "t_all = []\n",
    "for t in result:\n",
    "    print(t)\n",
    "    t_all.append(t)\n",
    "    bbox, text, score = t\n",
    "    cv2.rectangle(image_r, bbox[0], bbox[2], (0, 255, 0), 2)\n",
    "    #cv2.putText(image_r, text, (bbox[0][0], bbox[0][1] - 10), cv2.FONT_HERSHEY_SIMPLEX, 0.9, (0, 255, 0), 2)\n",
    "\n",
    "plt.imshow(cv2.cvtColor(image_r, cv2.COLOR_BGR2RGB))\n",
    "plt.show()"
   ]
  },
  {
   "cell_type": "code",
   "execution_count": 24,
   "metadata": {},
   "outputs": [
    {
     "name": "stdout",
     "output_type": "stream",
     "text": [
      "Bounding Box: [[146, 96], [500, 96], [500, 122], [146, 122]], Text: TORKIYE CUMHURIYETI KIMLIk KARTI, Confidence: 0.5249294500491704\n",
      "Bounding Box: [[96, 174], [220, 174], [220, 200], [96, 200]], Text: 12345678901, Confidence: 0.7246103770631815\n",
      "Bounding Box: [[244, 212], [368, 212], [368, 238], [244, 238]], Text: [KARAÇAMOĞLU, Confidence: 0.6445247911836792\n",
      "Bounding Box: [[244, 252], [350, 252], [350, 276], [244, 276]], Text: ÖMER SELIM, Confidence: 0.5175145545657983\n",
      "Bounding Box: [[245, 293], [337, 293], [337, 313], [245, 313]], Text: 15.10.1956, Confidence: 0.7959384472111367\n",
      "Bounding Box: [[385, 293], [421, 293], [421, 313], [385, 313]], Text: EIM, Confidence: 0.583871115599164\n",
      "Bounding Box: [[491, 303], [545, 303], [545, 321], [491, 321]], Text: U24259, Confidence: 0.5772348984727045\n",
      "Bounding Box: [[244, 330], [340, 330], [340, 354], [244, 354]], Text: MOOA59153, Confidence: 0.6426256655956711\n",
      "Bounding Box: [[385, 331], [457, 331], [457, 351], [385, 351]], Text: ICITUR, Confidence: 0.6209360393451002\n"
     ]
    }
   ],
   "source": [
    "import easyocr\n",
    "import cv2\n",
    "import numpy as np\n",
    "easyocr_result= result\n",
    "\n",
    "# Function to calculate the size of a bounding box\n",
    "def box_size(box):\n",
    "    return (box[1][0] - box[0][0]) * (box[2][1] - box[1][1])\n",
    "\n",
    "\n",
    "# Define thresholds for bounding box size and text confidence\n",
    "min_bounding_box_size = 100 # Adjust as needed\n",
    "min_text_confidence = 0.45  # Adjust as needed\n",
    "\n",
    "# Filter the results based on size and confidence\n",
    "filtered_results = [\n",
    "    (box, text, confidence) for (box, text, confidence) in easyocr_result\n",
    "    if box_size(box) >= min_bounding_box_size and confidence >= min_text_confidence\n",
    "]\n",
    "\n",
    "# Print the filtered results\n",
    "for box, text, confidence in filtered_results:\n",
    "    print(f\"Bounding Box: {box}, Text: {text}, Confidence: {confidence}\")\n",
    "\n"
   ]
  },
  {
   "cell_type": "code",
   "execution_count": null,
   "metadata": {},
   "outputs": [],
   "source": [
    "import matplotlib.pyplot as plt\n",
    "import matplotlib.patches as patches\n",
    "\n",
    "def plot_bbox(image_path, bbox_list):\n",
    "    \"\"\"\n",
    "    Plot the image with bounding boxes.\n",
    "    \"\"\"\n",
    "    # Read the image\n",
    "    img = plt.imread(image_path)\n",
    "\n",
    "    # Create figure and axes\n",
    "    fig, ax = plt.subplots()\n",
    "\n",
    "    # Display the image\n",
    "    ax.imshow(img)\n",
    "\n",
    "    # Plot bounding boxes\n",
    "    for bbox in bbox_list:\n",
    "        rect = patches.Polygon(bbox, linewidth=2, edgecolor='r', facecolor='none')\n",
    "        ax.add_patch(rect)\n",
    "\n",
    "    # Show the plot\n",
    "    plt.show()\n",
    "\n",
    "def is_same_zone(bbox1, bbox2, coord_threshold=10):\n",
    "\n",
    "    \"\"\"\n",
    "    Check if two bounding boxes are in the same zone.\n",
    "    \"\"\"\n",
    "    cord1 = [bbox1[0], bbox1[3]]\n",
    "    cord2 = [bbox2[0], bbox2[3]]\n",
    "    for coordinate1, coordinate2 in zip(cord1, cord2):\n",
    "        for x1, x2 in zip(coordinate1, coordinate2):\n",
    "            if abs(x1 - x2) > coord_threshold:\n",
    "                return False\n",
    "\n",
    "    return True\n",
    "\n",
    "akan= [[58, 144], [198, 144], [198, 176], [58, 176]]\n",
    "zeki= [[45, 135], [201, 135], [201, 171], [45, 171]]\n",
    "\n",
    "print(is_same_zone(akan, zeki, coord_threshold=25,area_threshold=600))\n",
    "plot_bbox(\"tc_images/resized_images/person1_front.jpg\", [akan, zeki])"
   ]
  },
  {
   "cell_type": "code",
   "execution_count": 28,
   "metadata": {},
   "outputs": [
    {
     "name": "stdout",
     "output_type": "stream",
     "text": [
      "[['tc', '12345678901', [[96, 174], [220, 174], [220, 200], [96, 200]], 0.7246103770631815, <class 'int'>], ['surname', '[KARAÇAMOĞLU', [[244, 212], [368, 212], [368, 238], [244, 238]], 0.6445247911836792, <class 'str'>], ['surname', 'ÖMER SELIM', [[244, 252], [350, 252], [350, 276], [244, 276]], 0.5175145545657983, <class 'str'>], ['name', '[KARAÇAMOĞLU', [[244, 212], [368, 212], [368, 238], [244, 238]], 0.6445247911836792, <class 'str'>], ['name', 'ÖMER SELIM', [[244, 252], [350, 252], [350, 276], [244, 276]], 0.5175145545657983, <class 'str'>], ['name', '15.10.1956', [[245, 293], [337, 293], [337, 313], [245, 313]], 0.7959384472111367, <class 'str'>], ['dob', '15.10.1956', [[245, 293], [337, 293], [337, 313], [245, 313]], 0.7959384472111367, <class 'datetime.datetime'>], ['dob', 'MOOA59153', [[244, 330], [340, 330], [340, 354], [244, 354]], 0.6426256655956711, <class 'datetime.datetime'>], ['serie_no', 'MOOA59153', [[244, 330], [340, 330], [340, 354], [244, 354]], 0.6426256655956711, <class 'str'>]]\n"
     ]
    }
   ],
   "source": [
    "from datetime import datetime\n",
    "def is_same_zone(bbox1, bbox2, coord_threshold=10, area_threshold=50, x_overlap_threshold=0.5):\n",
    "\n",
    "    \"\"\"\n",
    "    Check if two bounding boxes are in the same zone.\n",
    "    \"\"\"\n",
    "    cord1 = [bbox1[0], bbox1[3]]\n",
    "    cord2 = [bbox2[0], bbox2[3]]\n",
    "    for coordinate1, coordinate2 in zip(cord1, cord2):\n",
    "        for x1, x2 in zip(coordinate1, coordinate2):\n",
    "            if abs(x1 - x2) > coord_threshold:\n",
    "                return False\n",
    "\n",
    "    return True\n",
    "id_back_boxes = {\n",
    "    \"mother_name\": [[[162, 120], [238, 120], [238, 150], [162, 150]] ,str],\n",
    "    \"father_name\": [[[164, 176], [272, 176], [272, 206], [164, 206]], str]\n",
    "}\n",
    "tc_bounding_boxes = {\n",
    "    \"tc\": [[[45, 135], [201, 135], [201, 171], [45, 171]],int],\n",
    "    \"surname\": [[[215, 205], [295, 205], [295, 241], [215, 241]],str],\n",
    "    \"name\": [[[216, 260], [338, 260], [338, 290], [216, 290]],str],\n",
    "    \"dob\": [[[214, 312], [322, 312], [322, 342], [214, 342]],datetime],\n",
    "    \"serie_no\": [[[212, 364], [324, 364], [324, 394], [212, 394]],str]\n",
    "}\n",
    "\n",
    "\n",
    "def find_matching_text(easyocr_results, bounding_boxes):\n",
    "    matches = []\n",
    "\n",
    "    for key, reference_bbox in bounding_boxes.items():\n",
    "        for result in easyocr_results:\n",
    "            if is_same_zone(result[0], reference_bbox[0], coord_threshold=55):\n",
    "                matches.append([key, result[1], result[0], result[2],reference_bbox[1]])\n",
    "    return matches\n",
    "match = find_matching_text(filtered_results, tc_bounding_boxes)\n",
    "print(match)"
   ]
  },
  {
   "cell_type": "code",
   "execution_count": 13,
   "metadata": {},
   "outputs": [
    {
     "name": "stdout",
     "output_type": "stream",
     "text": [
      "['surname', 'KARAÇAMOĞLU', [[245, 209], [368, 209], [368, 239], [245, 239]], 0.9735783179498693, <class 'str'>]\n",
      "['name', 'ÖMER SELIM', [[246, 250], [350, 250], [350, 276], [246, 276]], 0.493368828542909, <class 'str'>]\n",
      "['name', '15.10.1956', [[246, 290], [336, 290], [336, 314], [246, 314]], 0.7906207053544192, <class 'str'>]\n",
      "['dob', '15.10.1956', [[246, 290], [336, 290], [336, 314], [246, 314]], 0.7906207053544192, <class 'datetime.datetime'>]\n",
      "['dob', 'MOOA59153', [[246, 330], [340, 330], [340, 354], [246, 354]], 0.5837756307126438, <class 'datetime.datetime'>]\n",
      "['serie_no', '17.08.2024', [[246, 368], [336, 368], [336, 392], [246, 392]], 0.6029631411126618, <class 'str'>]\n"
     ]
    }
   ],
   "source": [
    "for i in match:\n",
    "    print(i)"
   ]
  },
  {
   "cell_type": "code",
   "execution_count": null,
   "metadata": {},
   "outputs": [],
   "source": []
  },
  {
   "cell_type": "code",
   "execution_count": 29,
   "metadata": {},
   "outputs": [
    {
     "name": "stdout",
     "output_type": "stream",
     "text": [
      "\n",
      "[['tc', 12345678901, [[96, 174], [220, 174], [220, 200], [96, 200]], 0.7246103770631815, <class 'int'>], ['surname', '[KARAÇAMOĞLU', [[244, 212], [368, 212], [368, 238], [244, 238]], 0.6445247911836792, <class 'str'>], ['surname', 'ÖMER SELIM', [[244, 252], [350, 252], [350, 276], [244, 276]], 0.5175145545657983, <class 'str'>], ['name', '[KARAÇAMOĞLU', [[244, 212], [368, 212], [368, 238], [244, 238]], 0.6445247911836792, <class 'str'>], ['name', 'ÖMER SELIM', [[244, 252], [350, 252], [350, 276], [244, 276]], 0.5175145545657983, <class 'str'>], ['dob', datetime.datetime(1956, 10, 15, 0, 0), [[245, 293], [337, 293], [337, 313], [245, 313]], 0.7959384472111367, <class 'datetime.datetime'>], ['serie_no', 'MOOA59153', [[244, 330], [340, 330], [340, 354], [244, 354]], 0.6426256655956711, <class 'str'>]]\n"
     ]
    }
   ],
   "source": [
    "from datetime import datetime\n",
    "\n",
    "def convert_to_type(value):\n",
    "    if value.isdigit():\n",
    "        return int(value)\n",
    "    elif value.replace('.', '', 1).isdigit():  # Check for float with one decimal point\n",
    "        return float(value)\n",
    "    else:\n",
    "        try:\n",
    "            date_obj = datetime.strptime(value, \"%d.%m.%Y\")\n",
    "            return date_obj\n",
    "        except ValueError:\n",
    "            return value\n",
    "\n",
    "# Iterate through the data and update the second element using the convert_to_type function\n",
    "for item in match:\n",
    "    item[1] = convert_to_type(item[1])\n",
    "\n",
    "# Print the updated data\n",
    "\n",
    "print()\n",
    "match = [item for item in match if type(item[1]) == item[4]]\n",
    "print(match)"
   ]
  },
  {
   "cell_type": "code",
   "execution_count": 15,
   "metadata": {},
   "outputs": [
    {
     "data": {
      "text/plain": [
       "149.41218156495808"
      ]
     },
     "execution_count": 15,
     "metadata": {},
     "output_type": "execute_result"
    }
   ],
   "source": [
    "def calculate_distance(bbox1, bbox2):\n",
    "    \"\"\"\n",
    "    Calculate the Euclidean distance between the centers of two bounding boxes.\n",
    "    \"\"\"\n",
    "    x1_center = (bbox1[0][0] + bbox1[1][0]) / 2\n",
    "    y1_center = (bbox1[0][1] + bbox1[2][1]) / 2\n",
    "    x2_center = (bbox2[0][0] + bbox2[1][0]) / 2\n",
    "    y2_center = (bbox2[0][1] + bbox2[2][1]) / 2\n",
    "\n",
    "    distance = ((x1_center - x2_center) ** 2 + (y1_center - y2_center) ** 2) ** 0.5\n",
    "    return distance\n",
    "\n",
    "calculate_distance([[45, 135], [201, 135], [201, 171], [45, 171]],[[215, 205], [295, 205], [295, 241], [215, 241]])"
   ]
  },
  {
   "cell_type": "code",
   "execution_count": 17,
   "metadata": {},
   "outputs": [
    {
     "name": "stdout",
     "output_type": "stream",
     "text": [
      "Match found: Adi in ['Adi', 'surname', 'soyadi']\n",
      "Modified Data:\n",
      "['tc', 11299564760, [[56, 120], [202, 120], [202, 152], [56, 152]], 0.991907493707109, <class 'int'>]\n",
      "['surname', 'ŞİMŞEK', [[231, 197], [309, 197], [309, 233], [231, 233]], 0.8412318401147993, <class 'str'>]\n",
      "['name', 'MURAT', [[232, 250], [302, 250], [302, 276], [232, 276]], 0.9993872628499043, <class 'str'>]\n",
      "['serie_no', '03,06.2027', [[230, 398], [334, 398], [334, 424], [230, 424]], 0.8843559319797121, <class 'str'>]\n"
     ]
    }
   ],
   "source": [
    "data = [['tc', 11299564760, [[56, 120], [202, 120], [202, 152], [56, 152]], 0.991907493707109, int],\n",
    "        ['surname', 'ŞİMŞEK', [[231, 197], [309, 197], [309, 233], [231, 233]], 0.8412318401147993, str],\n",
    "        ['surname', 'Adi', [[233, 235], [255, 235], [255, 249], [233, 249]], 0.9018760222773314, str],\n",
    "        ['name', 'MURAT', [[232, 250], [302, 250], [302, 276], [232, 276]], 0.9993872628499043, str],\n",
    "        ['serie_no', '03,06.2027', [[230, 398], [334, 398], [334, 424], [230, 424]], 0.8843559319797121, str]]\n",
    "\n",
    "list_check = ['Adi', 'surname', 'soyadi']  # Assuming 'Adi' should be a string in the list\n",
    "\n",
    "list_check_lower = [check.lower() for check in list_check]\n",
    "\n",
    "matching_sublists = []\n",
    "\n",
    "for sublist in data:\n",
    "    if len(sublist) >= 2 and isinstance(sublist[1], str):\n",
    "        sublist_str_lower = sublist[1].lower()\n",
    "        if any(check in sublist_str_lower for check in list_check_lower):\n",
    "            matching_sublists.append(sublist)\n",
    "            print(f\"Match found: {sublist[1]} in {list_check}\")\n",
    "\n",
    "# Remove matching sublists from the original data\n",
    "for sublist in matching_sublists:\n",
    "    data.remove(sublist)\n",
    "\n",
    "# Print the modified data\n",
    "print(\"Modified Data:\")\n",
    "for sublist in data:\n",
    "    print(sublist)\n"
   ]
  },
  {
   "cell_type": "code",
   "execution_count": 30,
   "metadata": {},
   "outputs": [
    {
     "name": "stdout",
     "output_type": "stream",
     "text": [
      "['surname', 1, 152.80052355931247, '[KARAÇAMOĞLU', 0.6445247911836792]\n",
      "['name', 1, 152.80052355931247, '[KARAÇAMOĞLU', 0.6445247911836792]\n"
     ]
    }
   ],
   "source": [
    "count_dict = {key: sum(entry[0] == key for entry in match) for key in tc_bounding_boxes}\n",
    "\n",
    "# Filter keys with occurrences greater than 1\n",
    "keys_to_process = [key for key, count in count_dict.items() if count > 1]\n",
    "\n",
    "closer_entries = []\n",
    "# Apply calculate_distance function to bounding boxes of selected keys\n",
    "for key in keys_to_process:\n",
    "    entries = [entry for entry in match if entry[0] == key]\n",
    "    for i in range(len(entries)):\n",
    "        bbox1 = entries[i][2]\n",
    "        bbox_tc = next(entry for entry in match if entry[0] == 'tc')\n",
    "        distance = calculate_distance(bbox1, bbox_tc[2])\n",
    "        #print(f\"Distance between {key} bounding boxes {i+1} to tc is: {distance}\")\n",
    "        closer_entries.append([key, i+1, distance, entries[i][1],entries[i][3]])\n",
    "\n",
    "\n",
    "# Create a dictionary to store the entry with the lowest number for each key\n",
    "lowest_entries = {}\n",
    "\n",
    "# Iterate through the data and update the lowest_entries dictionary\n",
    "for entry in closer_entries:\n",
    "    key = entry[0]\n",
    "    number = entry[1]\n",
    "    distance = entry[2]\n",
    "    value = entry[3]\n",
    "    accuracy = entry[4]\n",
    "\n",
    "    if key not in lowest_entries or number < lowest_entries[key][1]:\n",
    "        lowest_entries[key] = [key, number, distance,value, accuracy]\n",
    "\n",
    "    if  accuracy > lowest_entries[key][4]:\n",
    "        lowest_entries[key] = [key, number, distance, value, accuracy]  \n",
    "\n",
    "# Convert the values of the dictionary to a list\n",
    "result_list = list(lowest_entries.values())\n",
    "\n",
    "# Print the result\n",
    "for entry in result_list:\n",
    "    print(entry)"
   ]
  },
  {
   "cell_type": "code",
   "execution_count": 31,
   "metadata": {},
   "outputs": [
    {
     "name": "stdout",
     "output_type": "stream",
     "text": [
      "['surname', 1, 152.80052355931247, '[KARAÇAMOĞLU', 0.6445247911836792]\n",
      "['name', 1, 152.80052355931247, '[KARAÇAMOĞLU', 0.6445247911836792]\n"
     ]
    }
   ],
   "source": [
    "def process_entries(match, tc_bounding_boxes):\n",
    "    count_dict = {key: sum(entry[0] == key for entry in match) for key in tc_bounding_boxes}\n",
    "\n",
    "    # Filter keys with occurrences greater than 1\n",
    "    keys_to_process = [key for key, count in count_dict.items() if count > 1]\n",
    "\n",
    "    closer_entries = []\n",
    "    # Apply calculate_distance function to bounding boxes of selected keys\n",
    "    for key in keys_to_process:\n",
    "        entries = [entry for entry in match if entry[0] == key]\n",
    "        for i in range(len(entries)):\n",
    "            bbox1 = entries[i][2]\n",
    "            bbox_tc = next(entry for entry in match if entry[0] == 'tc')\n",
    "            distance = calculate_distance(bbox1, bbox_tc[2])\n",
    "            #print(f\"Distance between {key} bounding boxes {i+1} to tc is: {distance}\")\n",
    "            closer_entries.append([key, i+1, distance, entries[i][1],entries[i][3]])\n",
    "            \n",
    "    # Create a dictionary to store the entry with the lowest number for each key\n",
    "    lowest_entries = {}\n",
    "\n",
    "    # Iterate through the data and update the lowest_entries dictionary\n",
    "    for entry in closer_entries:\n",
    "        key = entry[0]\n",
    "        number = entry[1]\n",
    "        distance = entry[2]\n",
    "        value = entry[3]\n",
    "        accuracy = entry[4]\n",
    "\n",
    "        if key not in lowest_entries or number < lowest_entries[key][1]:\n",
    "            lowest_entries[key] = [key, number, distance,value, accuracy]\n",
    "\n",
    "        if key not in lowest_entries or accuracy > lowest_entries[key][4]:\n",
    "                lowest_entries[key] = [key, number, distance, value, accuracy]  \n",
    "\n",
    "    # Convert the values of the dictionary to a list\n",
    "    result_list = list(lowest_entries.values())\n",
    "\n",
    "    return result_list\n",
    "\n",
    "# Example usage:\n",
    "result = process_entries(match, tc_bounding_boxes)\n",
    "for entry in result:\n",
    "    print(entry)"
   ]
  },
  {
   "cell_type": "code",
   "execution_count": 32,
   "metadata": {},
   "outputs": [
    {
     "name": "stdout",
     "output_type": "stream",
     "text": [
      "[['tc', 12345678901], ['dob', datetime.datetime(1956, 10, 15, 0, 0)], ['serie_no', 'MOOA59153']]\n",
      "[['tc', 12345678901], ['dob', datetime.datetime(1956, 10, 15, 0, 0)], ['serie_no', 'MOOA59153'], ['surname', '[KARAÇAMOĞLU'], ['name', '[KARAÇAMOĞLU']]\n"
     ]
    }
   ],
   "source": [
    "# Count occurrences of the first element of each key\n",
    "count_dict = {}\n",
    "for item in match:\n",
    "    key = item[0]\n",
    "    count_dict[key] = count_dict.get(key, 0) + 1\n",
    "\n",
    "# Create a new list with elements where the first element occurs only once\n",
    "final_list = [item[0:2] for item in match if count_dict[item[0]] == 1]\n",
    "print(final_list)\n",
    "final_list.extend([item[0], item[3]] for item in result_list)\n",
    "\n",
    "print(final_list)"
   ]
  },
  {
   "cell_type": "code",
   "execution_count": 20,
   "metadata": {},
   "outputs": [
    {
     "ename": "NameError",
     "evalue": "name 'processor' is not defined",
     "output_type": "error",
     "traceback": [
      "\u001b[1;31m---------------------------------------------------------------------------\u001b[0m",
      "\u001b[1;31mNameError\u001b[0m                                 Traceback (most recent call last)",
      "Cell \u001b[1;32mIn[20], line 26\u001b[0m\n\u001b[0;32m     23\u001b[0m \u001b[38;5;66;03m# Save the cropped image\u001b[39;00m\n\u001b[0;32m     24\u001b[0m cv2\u001b[38;5;241m.\u001b[39mimwrite(\u001b[38;5;124m'\u001b[39m\u001b[38;5;124mcropped_image.jpg\u001b[39m\u001b[38;5;124m'\u001b[39m, cropped_image)\n\u001b[1;32m---> 26\u001b[0m pixel_values \u001b[38;5;241m=\u001b[39m \u001b[43mprocessor\u001b[49m(images\u001b[38;5;241m=\u001b[39mcropped_image, return_tensors\u001b[38;5;241m=\u001b[39m\u001b[38;5;124m\"\u001b[39m\u001b[38;5;124mpt\u001b[39m\u001b[38;5;124m\"\u001b[39m)\u001b[38;5;241m.\u001b[39mpixel_values\n\u001b[0;32m     28\u001b[0m generated_ids \u001b[38;5;241m=\u001b[39m model\u001b[38;5;241m.\u001b[39mgenerate(pixel_values)\n\u001b[0;32m     29\u001b[0m generated_text \u001b[38;5;241m=\u001b[39m processor\u001b[38;5;241m.\u001b[39mbatch_decode(generated_ids, skip_special_tokens\u001b[38;5;241m=\u001b[39m\u001b[38;5;28;01mTrue\u001b[39;00m)[\u001b[38;5;241m0\u001b[39m]\n",
      "\u001b[1;31mNameError\u001b[0m: name 'processor' is not defined"
     ]
    }
   ],
   "source": [
    "# Example result from EasyOCR\n",
    "easyocr_result = t_all\n",
    "\n",
    "# Define a threshold for accuracy\n",
    "accuracy_threshold = 55\n",
    "\n",
    "# Iterate through all bounding boxes\n",
    "for box_info in easyocr_result:\n",
    "    bounding_box, text, accuracy = box_info\n",
    "\n",
    "    # Check if accuracy is below the threshold\n",
    "    if accuracy < accuracy_threshold:\n",
    "        # Extract the coordinates of the bounding box\n",
    "        box_coordinates = np.array(bounding_box)\n",
    "\n",
    "        # Read the original image\n",
    "        original_image = cv2.imread('tc_images/person2/front.jpg')  # Replace with the path to your original image\n",
    "\n",
    "        # Crop the image using the bounding box coordinates\n",
    "        cropped_image = original_image[box_coordinates[:, 1].min():box_coordinates[:, 1].max(),\n",
    "                                        box_coordinates[:, 0].min():box_coordinates[:, 0].max()]\n",
    "\n",
    "        # Save the cropped image\n",
    "        cv2.imwrite('cropped_image.jpg', cropped_image)\n",
    "\n",
    "        pixel_values = processor(images=cropped_image, return_tensors=\"pt\").pixel_values\n",
    "\n",
    "        generated_ids = model.generate(pixel_values)\n",
    "        generated_text = processor.batch_decode(generated_ids, skip_special_tokens=True)[0]\n",
    "\n",
    "        # Print the result from the second OCR\n",
    "        print(f\"Second OCR Result for Bounding Box: {generated_text}\")\n",
    "\n",
    "    else:\n",
    "        # Print the result from the first OCR\n",
    "        print(f\"First OCR Result for Bounding Box: {text}\")"
   ]
  },
  {
   "cell_type": "code",
   "execution_count": 15,
   "metadata": {},
   "outputs": [
    {
     "name": "stderr",
     "output_type": "stream",
     "text": [
      "Could not find image processor class in the image processor config or the model config. Loading based on pattern matching with the model's feature extractor configuration.\n",
      "Some weights of VisionEncoderDecoderModel were not initialized from the model checkpoint at microsoft/trocr-base-printed and are newly initialized: ['encoder.pooler.dense.weight', 'encoder.pooler.dense.bias']\n",
      "You should probably TRAIN this model on a down-stream task to be able to use it for predictions and inference.\n",
      "e:\\Data science\\Repos\\envs\\yolo\\lib\\site-packages\\transformers\\generation\\utils.py:1313: UserWarning: Using `max_length`'s default (20) to control the generation length. This behaviour is deprecated and will be removed from the config in v5 of Transformers -- we recommend using `max_new_tokens` to control the maximum length of the generation.\n",
      "  warnings.warn(\n"
     ]
    }
   ],
   "source": [
    "from transformers import TrOCRProcessor, VisionEncoderDecoderModel\n",
    "from PIL import Image\n",
    "import requests\n",
    "\n",
    "# load image from the IAM database (actually this model is meant to be used on printed text)\n",
    "\n",
    "image = Image.open(\"rotat_image.jpg\").convert(\"RGB\")\n",
    "\n",
    "processor = TrOCRProcessor.from_pretrained('microsoft/trocr-base-printed')\n",
    "model = VisionEncoderDecoderModel.from_pretrained('microsoft/trocr-base-printed')\n",
    "pixel_values = processor(images=image, return_tensors=\"pt\").pixel_values\n",
    "\n",
    "generated_ids = model.generate(pixel_values)\n",
    "generated_text = processor.batch_decode(generated_ids, skip_special_tokens=True)[0]"
   ]
  },
  {
   "cell_type": "code",
   "execution_count": 16,
   "metadata": {},
   "outputs": [
    {
     "data": {
      "text/plain": [
       "'2'"
      ]
     },
     "execution_count": 16,
     "metadata": {},
     "output_type": "execute_result"
    }
   ],
   "source": [
    "generated_text"
   ]
  },
  {
   "cell_type": "markdown",
   "metadata": {},
   "source": [
    "### Encryption"
   ]
  },
  {
   "cell_type": "code",
   "execution_count": 7,
   "metadata": {},
   "outputs": [],
   "source": [
    "from cryptography.fernet import Fernet\n",
    "\n",
    "def encrypt_image(image_bytes, key):\n",
    "    cipher_suite = Fernet(key)\n",
    "    cipher_image_bytes = cipher_suite.encrypt(image_bytes)\n",
    "    return cipher_image_bytes\n",
    "\n",
    "def decrypt_image(cipher_image_bytes, key):\n",
    "    cipher_suite = Fernet(key)\n",
    "    plain_image_bytes = cipher_suite.decrypt(cipher_image_bytes)\n",
    "    return plain_image_bytes\n",
    "\n",
    "\n",
    "def encrypt_text(text, key):\n",
    "    cipher_suite = Fernet(key)\n",
    "    cipher_text = cipher_suite.encrypt(text.encode('utf-8'))\n",
    "    return cipher_text\n",
    "\n",
    "def decrypt_text(cipher_text, key):\n",
    "    cipher_suite = Fernet(key)\n",
    "    plain_text = cipher_suite.decrypt(cipher_text).decode('utf-8')\n",
    "    return plain_text\n",
    "\n",
    "# Generate a key for encryption and decryption on the server\n",
    "def generate_keys():\n",
    "    server_key = Fernet.generate_key()\n",
    "    with open('server_key.txt', 'wb') as key_file:\n",
    "        key_file.write(server_key)\n",
    "\n",
    "\n",
    "def "
   ]
  },
  {
   "cell_type": "code",
   "execution_count": 5,
   "metadata": {},
   "outputs": [],
   "source": [
    "with open('server_key.txt', 'rb') as key_file:\n",
    "    server_key = key_file.read()\n",
    "cipher_suite = Fernet(server_key)"
   ]
  },
  {
   "cell_type": "code",
   "execution_count": null,
   "metadata": {},
   "outputs": [],
   "source": [
    "from PIL import Image\n",
    "import io\n",
    "\n",
    "\n",
    "with open(\"1.jpeg\", 'rb') as file:\n",
    "    image_bytes = file.read()\n",
    "encrypt_text = encrypt_image(image_bytes, server_key)\n",
    "decrypt_text = decrypt_image(encrypt_text, server_key)\n",
    "print(encrypt_text)\n",
    "print()\n",
    "print(decrypt_text)\n",
    "\n",
    "# Convert bytes to Image objects\n",
    "#original_image = Image.open(io.BytesIO(original_image_bytes))\n",
    "decrypted_image = Image.open(io.BytesIO(decrypt_text))\n",
    "\n",
    "# Display the images\n",
    "#original_image.show(title=\"Original Image\")\n",
    "decrypted_image.show(title=\"Decrypted Image\")"
   ]
  },
  {
   "cell_type": "code",
   "execution_count": 15,
   "metadata": {},
   "outputs": [
    {
     "data": {
      "text/plain": [
       "bytes"
      ]
     },
     "execution_count": 15,
     "metadata": {},
     "output_type": "execute_result"
    }
   ],
   "source": [
    "type(encrypt_text)"
   ]
  },
  {
   "cell_type": "code",
   "execution_count": null,
   "metadata": {},
   "outputs": [
    {
     "ename": "TypeError",
     "evalue": "data must be bytes",
     "output_type": "error",
     "traceback": [
      "\u001b[1;31m---------------------------------------------------------------------------\u001b[0m\n",
      "\u001b[1;31mTypeError\u001b[0m                                 Traceback (most recent call last)\n",
      "Cell \u001b[1;32mIn[10], line 4\u001b[0m\n",
      "\u001b[0;32m      1\u001b[0m \u001b[38;5;28;01mimport\u001b[39;00m \u001b[38;5;21;01mcv2\u001b[39;00m\n",
      "\u001b[0;32m      2\u001b[0m image \u001b[38;5;241m=\u001b[39m cv2\u001b[38;5;241m.\u001b[39mimread(\u001b[38;5;124m\"\u001b[39m\u001b[38;5;124m1.jpeg\u001b[39m\u001b[38;5;124m\"\u001b[39m)\n",
      "\u001b[1;32m----> 4\u001b[0m encrypt_text \u001b[38;5;241m=\u001b[39m \u001b[43mencrypt_image\u001b[49m\u001b[43m(\u001b[49m\u001b[43mimage\u001b[49m\u001b[43m,\u001b[49m\u001b[43m \u001b[49m\u001b[43mserver_key\u001b[49m\u001b[43m)\u001b[49m\n",
      "\u001b[0;32m      5\u001b[0m decrypt_text \u001b[38;5;241m=\u001b[39m decrypt_image(encrypt_text, server_key)\n",
      "\u001b[0;32m      6\u001b[0m \u001b[38;5;28mprint\u001b[39m(encrypt_text)\n",
      "\n",
      "Cell \u001b[1;32mIn[7], line 5\u001b[0m, in \u001b[0;36mencrypt_image\u001b[1;34m(image_bytes, key)\u001b[0m\n",
      "\u001b[0;32m      3\u001b[0m \u001b[38;5;28;01mdef\u001b[39;00m \u001b[38;5;21mencrypt_image\u001b[39m(image_bytes, key):\n",
      "\u001b[0;32m      4\u001b[0m     cipher_suite \u001b[38;5;241m=\u001b[39m Fernet(key)\n",
      "\u001b[1;32m----> 5\u001b[0m     cipher_image_bytes \u001b[38;5;241m=\u001b[39m \u001b[43mcipher_suite\u001b[49m\u001b[38;5;241;43m.\u001b[39;49m\u001b[43mencrypt\u001b[49m\u001b[43m(\u001b[49m\u001b[43mimage_bytes\u001b[49m\u001b[43m)\u001b[49m\n",
      "\u001b[0;32m      6\u001b[0m     \u001b[38;5;28;01mreturn\u001b[39;00m cipher_image_bytes\n",
      "\n",
      "File \u001b[1;32me:\\Data science\\Repos\\envs\\yolo\\lib\\site-packages\\cryptography\\fernet.py:52\u001b[0m, in \u001b[0;36mFernet.encrypt\u001b[1;34m(self, data)\u001b[0m\n",
      "\u001b[0;32m     51\u001b[0m \u001b[38;5;28;01mdef\u001b[39;00m \u001b[38;5;21mencrypt\u001b[39m(\u001b[38;5;28mself\u001b[39m, data: \u001b[38;5;28mbytes\u001b[39m) \u001b[38;5;241m-\u001b[39m\u001b[38;5;241m>\u001b[39m \u001b[38;5;28mbytes\u001b[39m:\n",
      "\u001b[1;32m---> 52\u001b[0m     \u001b[38;5;28;01mreturn\u001b[39;00m \u001b[38;5;28;43mself\u001b[39;49m\u001b[38;5;241;43m.\u001b[39;49m\u001b[43mencrypt_at_time\u001b[49m\u001b[43m(\u001b[49m\u001b[43mdata\u001b[49m\u001b[43m,\u001b[49m\u001b[43m \u001b[49m\u001b[38;5;28;43mint\u001b[39;49m\u001b[43m(\u001b[49m\u001b[43mtime\u001b[49m\u001b[38;5;241;43m.\u001b[39;49m\u001b[43mtime\u001b[49m\u001b[43m(\u001b[49m\u001b[43m)\u001b[49m\u001b[43m)\u001b[49m\u001b[43m)\u001b[49m\n",
      "\n",
      "File \u001b[1;32me:\\Data science\\Repos\\envs\\yolo\\lib\\site-packages\\cryptography\\fernet.py:56\u001b[0m, in \u001b[0;36mFernet.encrypt_at_time\u001b[1;34m(self, data, current_time)\u001b[0m\n",
      "\u001b[0;32m     54\u001b[0m \u001b[38;5;28;01mdef\u001b[39;00m \u001b[38;5;21mencrypt_at_time\u001b[39m(\u001b[38;5;28mself\u001b[39m, data: \u001b[38;5;28mbytes\u001b[39m, current_time: \u001b[38;5;28mint\u001b[39m) \u001b[38;5;241m-\u001b[39m\u001b[38;5;241m>\u001b[39m \u001b[38;5;28mbytes\u001b[39m:\n",
      "\u001b[0;32m     55\u001b[0m     iv \u001b[38;5;241m=\u001b[39m os\u001b[38;5;241m.\u001b[39murandom(\u001b[38;5;241m16\u001b[39m)\n",
      "\u001b[1;32m---> 56\u001b[0m     \u001b[38;5;28;01mreturn\u001b[39;00m \u001b[38;5;28;43mself\u001b[39;49m\u001b[38;5;241;43m.\u001b[39;49m\u001b[43m_encrypt_from_parts\u001b[49m\u001b[43m(\u001b[49m\u001b[43mdata\u001b[49m\u001b[43m,\u001b[49m\u001b[43m \u001b[49m\u001b[43mcurrent_time\u001b[49m\u001b[43m,\u001b[49m\u001b[43m \u001b[49m\u001b[43miv\u001b[49m\u001b[43m)\u001b[49m\n",
      "\n",
      "File \u001b[1;32me:\\Data science\\Repos\\envs\\yolo\\lib\\site-packages\\cryptography\\fernet.py:61\u001b[0m, in \u001b[0;36mFernet._encrypt_from_parts\u001b[1;34m(self, data, current_time, iv)\u001b[0m\n",
      "\u001b[0;32m     58\u001b[0m \u001b[38;5;28;01mdef\u001b[39;00m \u001b[38;5;21m_encrypt_from_parts\u001b[39m(\n",
      "\u001b[0;32m     59\u001b[0m     \u001b[38;5;28mself\u001b[39m, data: \u001b[38;5;28mbytes\u001b[39m, current_time: \u001b[38;5;28mint\u001b[39m, iv: \u001b[38;5;28mbytes\u001b[39m\n",
      "\u001b[0;32m     60\u001b[0m ) \u001b[38;5;241m-\u001b[39m\u001b[38;5;241m>\u001b[39m \u001b[38;5;28mbytes\u001b[39m:\n",
      "\u001b[1;32m---> 61\u001b[0m     \u001b[43mutils\u001b[49m\u001b[38;5;241;43m.\u001b[39;49m\u001b[43m_check_bytes\u001b[49m\u001b[43m(\u001b[49m\u001b[38;5;124;43m\"\u001b[39;49m\u001b[38;5;124;43mdata\u001b[39;49m\u001b[38;5;124;43m\"\u001b[39;49m\u001b[43m,\u001b[49m\u001b[43m \u001b[49m\u001b[43mdata\u001b[49m\u001b[43m)\u001b[49m\n",
      "\u001b[0;32m     63\u001b[0m     padder \u001b[38;5;241m=\u001b[39m padding\u001b[38;5;241m.\u001b[39mPKCS7(algorithms\u001b[38;5;241m.\u001b[39mAES\u001b[38;5;241m.\u001b[39mblock_size)\u001b[38;5;241m.\u001b[39mpadder()\n",
      "\u001b[0;32m     64\u001b[0m     padded_data \u001b[38;5;241m=\u001b[39m padder\u001b[38;5;241m.\u001b[39mupdate(data) \u001b[38;5;241m+\u001b[39m padder\u001b[38;5;241m.\u001b[39mfinalize()\n",
      "\n",
      "File \u001b[1;32me:\\Data science\\Repos\\envs\\yolo\\lib\\site-packages\\cryptography\\utils.py:31\u001b[0m, in \u001b[0;36m_check_bytes\u001b[1;34m(name, value)\u001b[0m\n",
      "\u001b[0;32m     29\u001b[0m \u001b[38;5;28;01mdef\u001b[39;00m \u001b[38;5;21m_check_bytes\u001b[39m(name: \u001b[38;5;28mstr\u001b[39m, value: \u001b[38;5;28mbytes\u001b[39m) \u001b[38;5;241m-\u001b[39m\u001b[38;5;241m>\u001b[39m \u001b[38;5;28;01mNone\u001b[39;00m:\n",
      "\u001b[0;32m     30\u001b[0m     \u001b[38;5;28;01mif\u001b[39;00m \u001b[38;5;129;01mnot\u001b[39;00m \u001b[38;5;28misinstance\u001b[39m(value, \u001b[38;5;28mbytes\u001b[39m):\n",
      "\u001b[1;32m---> 31\u001b[0m         \u001b[38;5;28;01mraise\u001b[39;00m \u001b[38;5;167;01mTypeError\u001b[39;00m(\u001b[38;5;124mf\u001b[39m\u001b[38;5;124m\"\u001b[39m\u001b[38;5;132;01m{\u001b[39;00mname\u001b[38;5;132;01m}\u001b[39;00m\u001b[38;5;124m must be bytes\u001b[39m\u001b[38;5;124m\"\u001b[39m)\n",
      "\n",
      "\u001b[1;31mTypeError\u001b[0m: data must be bytes"
     ]
    }
   ],
   "source": [
    "import cv2\n",
    "image = cv2.imread(\"1.jpeg\")\n",
    "\n",
    "encrypt_text = encrypt_image(image, server_key)\n",
    "decrypt_text = decrypt_image(encrypt_text, server_key)\n",
    "print(encrypt_text)\n",
    "print(decrypt_text)"
   ]
  },
  {
   "cell_type": "code",
   "execution_count": null,
   "metadata": {},
   "outputs": [
    {
     "ename": "TypeError",
     "evalue": "data must be bytes",
     "output_type": "error",
     "traceback": [
      "\u001b[1;31m---------------------------------------------------------------------------\u001b[0m\n",
      "\u001b[1;31mTypeError\u001b[0m                                 Traceback (most recent call last)\n",
      "Cell \u001b[1;32mIn[10], line 4\u001b[0m\n",
      "\u001b[0;32m      1\u001b[0m \u001b[38;5;28;01mimport\u001b[39;00m \u001b[38;5;21;01mcv2\u001b[39;00m\n",
      "\u001b[0;32m      2\u001b[0m image \u001b[38;5;241m=\u001b[39m cv2\u001b[38;5;241m.\u001b[39mimread(\u001b[38;5;124m\"\u001b[39m\u001b[38;5;124m1.jpeg\u001b[39m\u001b[38;5;124m\"\u001b[39m)\n",
      "\u001b[1;32m----> 4\u001b[0m encrypt_text \u001b[38;5;241m=\u001b[39m \u001b[43mencrypt_image\u001b[49m\u001b[43m(\u001b[49m\u001b[43mimage\u001b[49m\u001b[43m,\u001b[49m\u001b[43m \u001b[49m\u001b[43mserver_key\u001b[49m\u001b[43m)\u001b[49m\n",
      "\u001b[0;32m      5\u001b[0m decrypt_text \u001b[38;5;241m=\u001b[39m decrypt_image(encrypt_text, server_key)\n",
      "\u001b[0;32m      6\u001b[0m \u001b[38;5;28mprint\u001b[39m(encrypt_text)\n",
      "\n",
      "Cell \u001b[1;32mIn[7], line 5\u001b[0m, in \u001b[0;36mencrypt_image\u001b[1;34m(image_bytes, key)\u001b[0m\n",
      "\u001b[0;32m      3\u001b[0m \u001b[38;5;28;01mdef\u001b[39;00m \u001b[38;5;21mencrypt_image\u001b[39m(image_bytes, key):\n",
      "\u001b[0;32m      4\u001b[0m     cipher_suite \u001b[38;5;241m=\u001b[39m Fernet(key)\n",
      "\u001b[1;32m----> 5\u001b[0m     cipher_image_bytes \u001b[38;5;241m=\u001b[39m \u001b[43mcipher_suite\u001b[49m\u001b[38;5;241;43m.\u001b[39;49m\u001b[43mencrypt\u001b[49m\u001b[43m(\u001b[49m\u001b[43mimage_bytes\u001b[49m\u001b[43m)\u001b[49m\n",
      "\u001b[0;32m      6\u001b[0m     \u001b[38;5;28;01mreturn\u001b[39;00m cipher_image_bytes\n",
      "\n",
      "File \u001b[1;32me:\\Data science\\Repos\\envs\\yolo\\lib\\site-packages\\cryptography\\fernet.py:52\u001b[0m, in \u001b[0;36mFernet.encrypt\u001b[1;34m(self, data)\u001b[0m\n",
      "\u001b[0;32m     51\u001b[0m \u001b[38;5;28;01mdef\u001b[39;00m \u001b[38;5;21mencrypt\u001b[39m(\u001b[38;5;28mself\u001b[39m, data: \u001b[38;5;28mbytes\u001b[39m) \u001b[38;5;241m-\u001b[39m\u001b[38;5;241m>\u001b[39m \u001b[38;5;28mbytes\u001b[39m:\n",
      "\u001b[1;32m---> 52\u001b[0m     \u001b[38;5;28;01mreturn\u001b[39;00m \u001b[38;5;28;43mself\u001b[39;49m\u001b[38;5;241;43m.\u001b[39;49m\u001b[43mencrypt_at_time\u001b[49m\u001b[43m(\u001b[49m\u001b[43mdata\u001b[49m\u001b[43m,\u001b[49m\u001b[43m \u001b[49m\u001b[38;5;28;43mint\u001b[39;49m\u001b[43m(\u001b[49m\u001b[43mtime\u001b[49m\u001b[38;5;241;43m.\u001b[39;49m\u001b[43mtime\u001b[49m\u001b[43m(\u001b[49m\u001b[43m)\u001b[49m\u001b[43m)\u001b[49m\u001b[43m)\u001b[49m\n",
      "\n",
      "File \u001b[1;32me:\\Data science\\Repos\\envs\\yolo\\lib\\site-packages\\cryptography\\fernet.py:56\u001b[0m, in \u001b[0;36mFernet.encrypt_at_time\u001b[1;34m(self, data, current_time)\u001b[0m\n",
      "\u001b[0;32m     54\u001b[0m \u001b[38;5;28;01mdef\u001b[39;00m \u001b[38;5;21mencrypt_at_time\u001b[39m(\u001b[38;5;28mself\u001b[39m, data: \u001b[38;5;28mbytes\u001b[39m, current_time: \u001b[38;5;28mint\u001b[39m) \u001b[38;5;241m-\u001b[39m\u001b[38;5;241m>\u001b[39m \u001b[38;5;28mbytes\u001b[39m:\n",
      "\u001b[0;32m     55\u001b[0m     iv \u001b[38;5;241m=\u001b[39m os\u001b[38;5;241m.\u001b[39murandom(\u001b[38;5;241m16\u001b[39m)\n",
      "\u001b[1;32m---> 56\u001b[0m     \u001b[38;5;28;01mreturn\u001b[39;00m \u001b[38;5;28;43mself\u001b[39;49m\u001b[38;5;241;43m.\u001b[39;49m\u001b[43m_encrypt_from_parts\u001b[49m\u001b[43m(\u001b[49m\u001b[43mdata\u001b[49m\u001b[43m,\u001b[49m\u001b[43m \u001b[49m\u001b[43mcurrent_time\u001b[49m\u001b[43m,\u001b[49m\u001b[43m \u001b[49m\u001b[43miv\u001b[49m\u001b[43m)\u001b[49m\n",
      "\n",
      "File \u001b[1;32me:\\Data science\\Repos\\envs\\yolo\\lib\\site-packages\\cryptography\\fernet.py:61\u001b[0m, in \u001b[0;36mFernet._encrypt_from_parts\u001b[1;34m(self, data, current_time, iv)\u001b[0m\n",
      "\u001b[0;32m     58\u001b[0m \u001b[38;5;28;01mdef\u001b[39;00m \u001b[38;5;21m_encrypt_from_parts\u001b[39m(\n",
      "\u001b[0;32m     59\u001b[0m     \u001b[38;5;28mself\u001b[39m, data: \u001b[38;5;28mbytes\u001b[39m, current_time: \u001b[38;5;28mint\u001b[39m, iv: \u001b[38;5;28mbytes\u001b[39m\n",
      "\u001b[0;32m     60\u001b[0m ) \u001b[38;5;241m-\u001b[39m\u001b[38;5;241m>\u001b[39m \u001b[38;5;28mbytes\u001b[39m:\n",
      "\u001b[1;32m---> 61\u001b[0m     \u001b[43mutils\u001b[49m\u001b[38;5;241;43m.\u001b[39;49m\u001b[43m_check_bytes\u001b[49m\u001b[43m(\u001b[49m\u001b[38;5;124;43m\"\u001b[39;49m\u001b[38;5;124;43mdata\u001b[39;49m\u001b[38;5;124;43m\"\u001b[39;49m\u001b[43m,\u001b[49m\u001b[43m \u001b[49m\u001b[43mdata\u001b[49m\u001b[43m)\u001b[49m\n",
      "\u001b[0;32m     63\u001b[0m     padder \u001b[38;5;241m=\u001b[39m padding\u001b[38;5;241m.\u001b[39mPKCS7(algorithms\u001b[38;5;241m.\u001b[39mAES\u001b[38;5;241m.\u001b[39mblock_size)\u001b[38;5;241m.\u001b[39mpadder()\n",
      "\u001b[0;32m     64\u001b[0m     padded_data \u001b[38;5;241m=\u001b[39m padder\u001b[38;5;241m.\u001b[39mupdate(data) \u001b[38;5;241m+\u001b[39m padder\u001b[38;5;241m.\u001b[39mfinalize()\n",
      "\n",
      "File \u001b[1;32me:\\Data science\\Repos\\envs\\yolo\\lib\\site-packages\\cryptography\\utils.py:31\u001b[0m, in \u001b[0;36m_check_bytes\u001b[1;34m(name, value)\u001b[0m\n",
      "\u001b[0;32m     29\u001b[0m \u001b[38;5;28;01mdef\u001b[39;00m \u001b[38;5;21m_check_bytes\u001b[39m(name: \u001b[38;5;28mstr\u001b[39m, value: \u001b[38;5;28mbytes\u001b[39m) \u001b[38;5;241m-\u001b[39m\u001b[38;5;241m>\u001b[39m \u001b[38;5;28;01mNone\u001b[39;00m:\n",
      "\u001b[0;32m     30\u001b[0m     \u001b[38;5;28;01mif\u001b[39;00m \u001b[38;5;129;01mnot\u001b[39;00m \u001b[38;5;28misinstance\u001b[39m(value, \u001b[38;5;28mbytes\u001b[39m):\n",
      "\u001b[1;32m---> 31\u001b[0m         \u001b[38;5;28;01mraise\u001b[39;00m \u001b[38;5;167;01mTypeError\u001b[39;00m(\u001b[38;5;124mf\u001b[39m\u001b[38;5;124m\"\u001b[39m\u001b[38;5;132;01m{\u001b[39;00mname\u001b[38;5;132;01m}\u001b[39;00m\u001b[38;5;124m must be bytes\u001b[39m\u001b[38;5;124m\"\u001b[39m)\n",
      "\n",
      "\u001b[1;31mTypeError\u001b[0m: data must be bytes"
     ]
    }
   ],
   "source": [
    "import cv2\n",
    "image = cv2.imread(\"1.jpeg\")\n",
    "\n",
    "encrypt_text = encrypt_image(image, server_key)\n",
    "decrypt_text = decrypt_image(encrypt_text, server_key)\n",
    "print(encrypt_text)\n",
    "print(decrypt_text)"
   ]
  },
  {
   "cell_type": "code",
   "execution_count": 1,
   "metadata": {},
   "outputs": [
    {
     "name": "stdout",
     "output_type": "stream",
     "text": [
      "hey\n"
     ]
    }
   ],
   "source": []
  },
  {
   "cell_type": "markdown",
   "metadata": {},
   "source": [
    "### DOCTR"
   ]
  },
  {
   "cell_type": "code",
   "execution_count": 114,
   "metadata": {},
   "outputs": [],
   "source": [
    "GTK_FOLDER = r'C:\\Program Files\\GTK3-Runtime Win64\\bin'\n",
    "os.environ['PATH'] = GTK_FOLDER + os.pathsep + os.environ.get('PATH', '')"
   ]
  },
  {
   "cell_type": "code",
   "execution_count": 131,
   "metadata": {},
   "outputs": [],
   "source": [
    "from doctr.models import ocr_predictor\n",
    "from doctr.io import DocumentFile\n",
    "\n",
    "model = ocr_predictor(det_arch='db_resnet50', reco_arch='crnn_vgg16_bn', pretrained=True)\n",
    "# Image\n",
    "single_img_doc = DocumentFile.from_images(\"tc_images/person2/front.jpg\")"
   ]
  },
  {
   "cell_type": "code",
   "execution_count": 132,
   "metadata": {},
   "outputs": [],
   "source": [
    "result = model(single_img_doc)\n",
    "json_output = result.export()"
   ]
  },
  {
   "cell_type": "code",
   "execution_count": null,
   "metadata": {},
   "outputs": [],
   "source": []
  },
  {
   "cell_type": "code",
   "execution_count": null,
   "metadata": {},
   "outputs": [],
   "source": []
  },
  {
   "cell_type": "markdown",
   "metadata": {},
   "source": [
    "### TC Data augmentation"
   ]
  },
  {
   "cell_type": "markdown",
   "metadata": {},
   "source": []
  },
  {
   "cell_type": "code",
   "execution_count": 205,
   "metadata": {},
   "outputs": [],
   "source": [
    "# Function to apply random augmentations to an image\n",
    "def augment_image(original_image):\n",
    "    # Specify dimensions of the background image with an additional 50 pixels\n",
    "    width = original_image.shape[1] + 150\n",
    "    height = original_image.shape[0] + 150\n",
    "\n",
    "    # Create a random color with values between 0 and 255\n",
    "    random_color = np.random.randint(0, 256, size=(3,), dtype=np.uint8)\n",
    "\n",
    "    # Create a new image with the specified dimensions and fill it with the random color\n",
    "    background_image = np.full((height, width, 3), random_color, dtype=np.uint8)\n",
    "\n",
    "    # Calculate the top-left coordinates for placing the original image centered\n",
    "    top_left_x = (width - original_image.shape[1]) // 2\n",
    "    top_left_y = (height - original_image.shape[0]) // 2\n",
    "\n",
    "    # Overlay the original image onto the background\n",
    "    background_image[top_left_y:top_left_y + original_image.shape[0], top_left_x:top_left_x + original_image.shape[1]] = original_image\n",
    "\n",
    "    # Randomly rotate the entire image between -15 and 15 degrees\n",
    "    rotation_angle = np.random.uniform(-15, 15)\n",
    "    rows, cols, _ = background_image.shape\n",
    "    rotation_matrix = cv2.getRotationMatrix2D((cols / 2, rows / 2), rotation_angle, 1)\n",
    "    augmented_image = cv2.warpAffine(background_image, rotation_matrix, (cols, rows))\n",
    "\n",
    "    #Adjust brightness and contrast (optional)\n",
    "    alpha = np.random.uniform(0.5, 1.5)\n",
    "    beta = np.random.randint(-25, 25)\n",
    "    augmented_image = cv2.addWeighted(augmented_image, alpha, augmented_image, 0, beta)\n",
    "\n",
    "    return augmented_image\n",
    "\n",
    "\n",
    "# Load images from the folder and subfolders recursively\n",
    "images = []\n",
    "root_folder = \"tc_images/\"\n",
    "for subdir, dirs, files in os.walk(root_folder):\n",
    "    for file in files:\n",
    "        if file.endswith(\".jpg\"):\n",
    "            image_path = os.path.join(subdir, file)\n",
    "            img = cv2.imread(image_path)\n",
    "            if img is not None:  # Check for successful loading\n",
    "                images.append(img)\n",
    "\n",
    "# Apply augmentation and save new images and iterate from the image list 4 times\n",
    "y=0\n",
    "for y in range(6):\n",
    "    for i in range(len(images)):\n",
    "        aug_img = augment_image(images[i])\n",
    "        cv2.imwrite(f\"tc_images/augmented_data/augmented_image_{i+1}{y}.jpg\", aug_img)\n",
    "    y+=1"
   ]
  },
  {
   "cell_type": "code",
   "execution_count": null,
   "metadata": {},
   "outputs": [],
   "source": []
  },
  {
   "cell_type": "code",
   "execution_count": 190,
   "metadata": {},
   "outputs": [
    {
     "name": "stdout",
     "output_type": "stream",
     "text": [
      "Combined image saved successfully!\n"
     ]
    }
   ],
   "source": [
    "import cv2\n",
    "import numpy as np\n",
    "\n",
    "# Load the image to be added\n",
    "original_image = cv2.imread(\"rotat_image.jpg\")\n",
    "\n",
    "# Randomly rotate the image between -15 and 15 degrees\n",
    "rotation_angle = np.random.uniform(-15, 15)\n",
    "rows, cols, _ = original_image.shape\n",
    "rotation_matrix = cv2.getRotationMatrix2D((cols / 2, rows / 2), rotation_angle, 1)\n",
    "rotated_image = cv2.warpAffine(original_image, rotation_matrix, (cols, rows))\n",
    "\n",
    "# Adjust brightness and contrast (optional)\n",
    "alpha = np.random.uniform(0.5, 1.5)\n",
    "beta = np.random.randint(-25, 25)\n",
    "rotated_image = cv2.addWeighted(rotated_image, alpha, rotated_image, 0, beta)\n",
    "\n",
    "# Specify dimensions of the background image with an additional 50 pixels\n",
    "width = rotated_image.shape[1] + 50\n",
    "height = rotated_image.shape[0] + 50\n",
    "\n",
    "# Create a random color with values between 0 and 255\n",
    "random_color = np.random.randint(0, 256, size=(3,), dtype=np.uint8)\n",
    "\n",
    "# Create a new image with the specified dimensions and fill it with the random color\n",
    "background_image = np.full((height, width, 3), random_color, dtype=np.uint8)\n",
    "\n",
    "# Calculate the top-left coordinates for placing the rotated image centered\n",
    "top_left_x = (width - rotated_image.shape[1]) // 2\n",
    "top_left_y = (height - rotated_image.shape[0]) // 2\n",
    "\n",
    "# Overlay the rotated image onto the background\n",
    "background_image[top_left_y:top_left_y + rotated_image.shape[0], top_left_x:top_left_x + rotated_image.shape[1]] = rotated_image\n",
    "\n",
    "# Save the combined image\n",
    "cv2.imwrite(\"combined_image.jpg\", background_image)\n",
    "\n",
    "print(\"Combined image saved successfully!\")\n"
   ]
  },
  {
   "cell_type": "code",
   "execution_count": null,
   "metadata": {},
   "outputs": [],
   "source": []
  }
 ],
 "metadata": {
  "kernelspec": {
   "display_name": "Id",
   "language": "python",
   "name": "python3"
  },
  "language_info": {
   "codemirror_mode": {
    "name": "ipython",
    "version": 3
   },
   "file_extension": ".py",
   "mimetype": "text/x-python",
   "name": "python",
   "nbconvert_exporter": "python",
   "pygments_lexer": "ipython3",
   "version": "3.9.18"
  }
 },
 "nbformat": 4,
 "nbformat_minor": 2
}
